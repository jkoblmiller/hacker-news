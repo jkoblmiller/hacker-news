{
 "cells": [
  {
   "metadata": {
    "ExecuteTime": {
     "end_time": "2025-06-17T20:42:38.384531Z",
     "start_time": "2025-06-17T20:42:38.328863Z"
    }
   },
   "cell_type": "code",
   "source": [
    "import pandas as pd\n",
    "import numpy as np\n",
    "import torch\n",
    "import pandas\n",
    "from transformers import pipeline\n",
    "from tqdm import tqdm\n",
    "import matplotlib.pyplot as plt\n",
    "from multiprocessing import Pool\n",
    "from datasets import Dataset"
   ],
   "id": "89aaf3a41339e9a3",
   "outputs": [],
   "execution_count": 36
  },
  {
   "metadata": {
    "ExecuteTime": {
     "end_time": "2025-06-17T20:42:38.780372Z",
     "start_time": "2025-06-17T20:42:38.776887Z"
    }
   },
   "cell_type": "code",
   "source": [
    "print(torch.cuda.is_available())\n",
    "print(torch.cuda.get_device_name(0))\n"
   ],
   "id": "fbc121e30a2defb3",
   "outputs": [
    {
     "name": "stdout",
     "output_type": "stream",
     "text": [
      "True\n",
      "NVIDIA GeForce RTX 4080\n"
     ]
    }
   ],
   "execution_count": 37
  },
  {
   "metadata": {
    "ExecuteTime": {
     "end_time": "2025-06-17T20:42:41.095567Z",
     "start_time": "2025-06-17T20:42:39.767844Z"
    }
   },
   "cell_type": "code",
   "source": [
    "df = pd.read_csv(\"cleaned_data.csv\")\n",
    "df"
   ],
   "id": "ff9d03aca03b3526",
   "outputs": [
    {
     "data": {
      "text/plain": [
       "                                                    title  \\\n",
       "0                                Fetii (YC S22) Is Hiring   \n",
       "1       Instant (YC S22) Is Hiring a Founding TypeScri...   \n",
       "2                              Tabular (YC S24) Is Hiring   \n",
       "3       Ciro (YC S22) is hiring a software engineer to...   \n",
       "4                          Wondercraft (YC S22) Is Hiring   \n",
       "...                                                   ...   \n",
       "123092  The movie mistake mystery from \"Revenge of the...   \n",
       "123093  Pentagon to terminate $5.1B in IT contracts wi...   \n",
       "123094  A hackable AI assistant using a single SQLite ...   \n",
       "123095  Show HN: Unsure Calculator – back-of-a-napkin ...   \n",
       "123096                Google is winning on every AI front   \n",
       "\n",
       "                                                      url  \\\n",
       "0       https://www.ycombinator.com/companies/fetii/jo...   \n",
       "1              https://www.instantdb.com/hiring/ts-hacker   \n",
       "2       https://www.ycombinator.com/companies/tabular/...   \n",
       "3         https://www.ycombinator.com/companies/ciro/jobs   \n",
       "4                                                     NaN   \n",
       "...                                                   ...   \n",
       "123092  https://fxrant.blogspot.com/2025/04/the-movie-...   \n",
       "123093  https://www.reuters.com/world/us/pentagon-term...   \n",
       "123094  https://www.geoffreylitt.com/2025/04/12/how-i-...   \n",
       "123095                   https://filiph.github.io/unsure/   \n",
       "123096  https://www.thealgorithmicbridge.com/p/google-...   \n",
       "\n",
       "                                                     text  dead  \\\n",
       "0                                                     NaN   NaN   \n",
       "1                                                     NaN   NaN   \n",
       "2                                                     NaN   NaN   \n",
       "3                                                     NaN   NaN   \n",
       "4       We are looking for a Senior Product Designer t...   NaN   \n",
       "...                                                   ...   ...   \n",
       "123092                                                NaN   NaN   \n",
       "123093                                                NaN   NaN   \n",
       "123094                                                NaN   NaN   \n",
       "123095                                                NaN   NaN   \n",
       "123096                                                NaN   NaN   \n",
       "\n",
       "                    by   score        time                  timestamp   type  \\\n",
       "0            Mattiommi     1.0  1747328407  2025-05-15 17:00:07+00:00    job   \n",
       "1            stopachka     1.0  1746464426  2025-05-05 17:00:26+00:00    job   \n",
       "2         kilianjustus     1.0  1746601204  2025-05-07 07:00:04+00:00    job   \n",
       "3               dwiner     1.0  1746723638  2025-05-08 17:00:38+00:00    job   \n",
       "4         youssefarizk     1.0  1743404419  2025-03-31 07:00:19+00:00    job   \n",
       "...                ...     ...         ...                        ...    ...   \n",
       "123092        CharlesW   456.0  1745170168  2025-04-20 17:29:28+00:00  story   \n",
       "123093  oldprogrammer2   514.0  1744374193  2025-04-11 12:23:13+00:00  story   \n",
       "123094     stevekrouse   800.0  1744638778  2025-04-14 13:52:58+00:00  story   \n",
       "123095          filiph   930.0  1744705379  2025-04-15 08:22:59+00:00  story   \n",
       "123096          vinhnx  1005.0  1744430330  2025-04-12 03:58:50+00:00  story   \n",
       "\n",
       "              id  parent_x  descendants  ranking  deleted    parent_y  \\\n",
       "0       43996980       NaN          NaN      NaN      NaN         NaN   \n",
       "1       43897138       NaN          NaN      NaN      NaN         NaN   \n",
       "2       43912944       NaN          NaN      NaN      NaN         NaN   \n",
       "3       43928294       NaN          NaN      NaN      NaN         NaN   \n",
       "4       43532009       NaN          NaN      NaN      NaN         NaN   \n",
       "...          ...       ...          ...      ...      ...         ...   \n",
       "123092  43745141       NaN        172.0      NaN      NaN  43745141.0   \n",
       "123093  43653004       NaN        640.0      NaN      NaN  43653004.0   \n",
       "123094  43681287       NaN        174.0      NaN      NaN  43681287.0   \n",
       "123095  43690289       NaN        162.0      NaN      NaN  43690289.0   \n",
       "123096  43661235       NaN        819.0      NaN      NaN  43661235.0   \n",
       "\n",
       "                                                  content  \n",
       "0                                  fetii yc s22 is hiring  \n",
       "1        instant yc s22 is hiring a founding typescrip...  \n",
       "2                                tabular yc s24 is hiring  \n",
       "3        ciro yc s22 is hiring a software engineer to ...  \n",
       "4        wondercraft yc s22 is hiring we are looking f...  \n",
       "...                                                   ...  \n",
       "123092  a bit late to the party but there is a famous ...  \n",
       "123093  good government contractors usually overcharge...  \n",
       "123094  love it such a nice idea coupled with a flawle...  \n",
       "123095  awesome an alternative approach is using fuzzy...  \n",
       "123096   i think the key is that google is the gateway...  \n",
       "\n",
       "[123097 rows x 16 columns]"
      ],
      "text/html": [
       "<div>\n",
       "<style scoped>\n",
       "    .dataframe tbody tr th:only-of-type {\n",
       "        vertical-align: middle;\n",
       "    }\n",
       "\n",
       "    .dataframe tbody tr th {\n",
       "        vertical-align: top;\n",
       "    }\n",
       "\n",
       "    .dataframe thead th {\n",
       "        text-align: right;\n",
       "    }\n",
       "</style>\n",
       "<table border=\"1\" class=\"dataframe\">\n",
       "  <thead>\n",
       "    <tr style=\"text-align: right;\">\n",
       "      <th></th>\n",
       "      <th>title</th>\n",
       "      <th>url</th>\n",
       "      <th>text</th>\n",
       "      <th>dead</th>\n",
       "      <th>by</th>\n",
       "      <th>score</th>\n",
       "      <th>time</th>\n",
       "      <th>timestamp</th>\n",
       "      <th>type</th>\n",
       "      <th>id</th>\n",
       "      <th>parent_x</th>\n",
       "      <th>descendants</th>\n",
       "      <th>ranking</th>\n",
       "      <th>deleted</th>\n",
       "      <th>parent_y</th>\n",
       "      <th>content</th>\n",
       "    </tr>\n",
       "  </thead>\n",
       "  <tbody>\n",
       "    <tr>\n",
       "      <th>0</th>\n",
       "      <td>Fetii (YC S22) Is Hiring</td>\n",
       "      <td>https://www.ycombinator.com/companies/fetii/jo...</td>\n",
       "      <td>NaN</td>\n",
       "      <td>NaN</td>\n",
       "      <td>Mattiommi</td>\n",
       "      <td>1.0</td>\n",
       "      <td>1747328407</td>\n",
       "      <td>2025-05-15 17:00:07+00:00</td>\n",
       "      <td>job</td>\n",
       "      <td>43996980</td>\n",
       "      <td>NaN</td>\n",
       "      <td>NaN</td>\n",
       "      <td>NaN</td>\n",
       "      <td>NaN</td>\n",
       "      <td>NaN</td>\n",
       "      <td>fetii yc s22 is hiring</td>\n",
       "    </tr>\n",
       "    <tr>\n",
       "      <th>1</th>\n",
       "      <td>Instant (YC S22) Is Hiring a Founding TypeScri...</td>\n",
       "      <td>https://www.instantdb.com/hiring/ts-hacker</td>\n",
       "      <td>NaN</td>\n",
       "      <td>NaN</td>\n",
       "      <td>stopachka</td>\n",
       "      <td>1.0</td>\n",
       "      <td>1746464426</td>\n",
       "      <td>2025-05-05 17:00:26+00:00</td>\n",
       "      <td>job</td>\n",
       "      <td>43897138</td>\n",
       "      <td>NaN</td>\n",
       "      <td>NaN</td>\n",
       "      <td>NaN</td>\n",
       "      <td>NaN</td>\n",
       "      <td>NaN</td>\n",
       "      <td>instant yc s22 is hiring a founding typescrip...</td>\n",
       "    </tr>\n",
       "    <tr>\n",
       "      <th>2</th>\n",
       "      <td>Tabular (YC S24) Is Hiring</td>\n",
       "      <td>https://www.ycombinator.com/companies/tabular/...</td>\n",
       "      <td>NaN</td>\n",
       "      <td>NaN</td>\n",
       "      <td>kilianjustus</td>\n",
       "      <td>1.0</td>\n",
       "      <td>1746601204</td>\n",
       "      <td>2025-05-07 07:00:04+00:00</td>\n",
       "      <td>job</td>\n",
       "      <td>43912944</td>\n",
       "      <td>NaN</td>\n",
       "      <td>NaN</td>\n",
       "      <td>NaN</td>\n",
       "      <td>NaN</td>\n",
       "      <td>NaN</td>\n",
       "      <td>tabular yc s24 is hiring</td>\n",
       "    </tr>\n",
       "    <tr>\n",
       "      <th>3</th>\n",
       "      <td>Ciro (YC S22) is hiring a software engineer to...</td>\n",
       "      <td>https://www.ycombinator.com/companies/ciro/jobs</td>\n",
       "      <td>NaN</td>\n",
       "      <td>NaN</td>\n",
       "      <td>dwiner</td>\n",
       "      <td>1.0</td>\n",
       "      <td>1746723638</td>\n",
       "      <td>2025-05-08 17:00:38+00:00</td>\n",
       "      <td>job</td>\n",
       "      <td>43928294</td>\n",
       "      <td>NaN</td>\n",
       "      <td>NaN</td>\n",
       "      <td>NaN</td>\n",
       "      <td>NaN</td>\n",
       "      <td>NaN</td>\n",
       "      <td>ciro yc s22 is hiring a software engineer to ...</td>\n",
       "    </tr>\n",
       "    <tr>\n",
       "      <th>4</th>\n",
       "      <td>Wondercraft (YC S22) Is Hiring</td>\n",
       "      <td>NaN</td>\n",
       "      <td>We are looking for a Senior Product Designer t...</td>\n",
       "      <td>NaN</td>\n",
       "      <td>youssefarizk</td>\n",
       "      <td>1.0</td>\n",
       "      <td>1743404419</td>\n",
       "      <td>2025-03-31 07:00:19+00:00</td>\n",
       "      <td>job</td>\n",
       "      <td>43532009</td>\n",
       "      <td>NaN</td>\n",
       "      <td>NaN</td>\n",
       "      <td>NaN</td>\n",
       "      <td>NaN</td>\n",
       "      <td>NaN</td>\n",
       "      <td>wondercraft yc s22 is hiring we are looking f...</td>\n",
       "    </tr>\n",
       "    <tr>\n",
       "      <th>...</th>\n",
       "      <td>...</td>\n",
       "      <td>...</td>\n",
       "      <td>...</td>\n",
       "      <td>...</td>\n",
       "      <td>...</td>\n",
       "      <td>...</td>\n",
       "      <td>...</td>\n",
       "      <td>...</td>\n",
       "      <td>...</td>\n",
       "      <td>...</td>\n",
       "      <td>...</td>\n",
       "      <td>...</td>\n",
       "      <td>...</td>\n",
       "      <td>...</td>\n",
       "      <td>...</td>\n",
       "      <td>...</td>\n",
       "    </tr>\n",
       "    <tr>\n",
       "      <th>123092</th>\n",
       "      <td>The movie mistake mystery from \"Revenge of the...</td>\n",
       "      <td>https://fxrant.blogspot.com/2025/04/the-movie-...</td>\n",
       "      <td>NaN</td>\n",
       "      <td>NaN</td>\n",
       "      <td>CharlesW</td>\n",
       "      <td>456.0</td>\n",
       "      <td>1745170168</td>\n",
       "      <td>2025-04-20 17:29:28+00:00</td>\n",
       "      <td>story</td>\n",
       "      <td>43745141</td>\n",
       "      <td>NaN</td>\n",
       "      <td>172.0</td>\n",
       "      <td>NaN</td>\n",
       "      <td>NaN</td>\n",
       "      <td>43745141.0</td>\n",
       "      <td>a bit late to the party but there is a famous ...</td>\n",
       "    </tr>\n",
       "    <tr>\n",
       "      <th>123093</th>\n",
       "      <td>Pentagon to terminate $5.1B in IT contracts wi...</td>\n",
       "      <td>https://www.reuters.com/world/us/pentagon-term...</td>\n",
       "      <td>NaN</td>\n",
       "      <td>NaN</td>\n",
       "      <td>oldprogrammer2</td>\n",
       "      <td>514.0</td>\n",
       "      <td>1744374193</td>\n",
       "      <td>2025-04-11 12:23:13+00:00</td>\n",
       "      <td>story</td>\n",
       "      <td>43653004</td>\n",
       "      <td>NaN</td>\n",
       "      <td>640.0</td>\n",
       "      <td>NaN</td>\n",
       "      <td>NaN</td>\n",
       "      <td>43653004.0</td>\n",
       "      <td>good government contractors usually overcharge...</td>\n",
       "    </tr>\n",
       "    <tr>\n",
       "      <th>123094</th>\n",
       "      <td>A hackable AI assistant using a single SQLite ...</td>\n",
       "      <td>https://www.geoffreylitt.com/2025/04/12/how-i-...</td>\n",
       "      <td>NaN</td>\n",
       "      <td>NaN</td>\n",
       "      <td>stevekrouse</td>\n",
       "      <td>800.0</td>\n",
       "      <td>1744638778</td>\n",
       "      <td>2025-04-14 13:52:58+00:00</td>\n",
       "      <td>story</td>\n",
       "      <td>43681287</td>\n",
       "      <td>NaN</td>\n",
       "      <td>174.0</td>\n",
       "      <td>NaN</td>\n",
       "      <td>NaN</td>\n",
       "      <td>43681287.0</td>\n",
       "      <td>love it such a nice idea coupled with a flawle...</td>\n",
       "    </tr>\n",
       "    <tr>\n",
       "      <th>123095</th>\n",
       "      <td>Show HN: Unsure Calculator – back-of-a-napkin ...</td>\n",
       "      <td>https://filiph.github.io/unsure/</td>\n",
       "      <td>NaN</td>\n",
       "      <td>NaN</td>\n",
       "      <td>filiph</td>\n",
       "      <td>930.0</td>\n",
       "      <td>1744705379</td>\n",
       "      <td>2025-04-15 08:22:59+00:00</td>\n",
       "      <td>story</td>\n",
       "      <td>43690289</td>\n",
       "      <td>NaN</td>\n",
       "      <td>162.0</td>\n",
       "      <td>NaN</td>\n",
       "      <td>NaN</td>\n",
       "      <td>43690289.0</td>\n",
       "      <td>awesome an alternative approach is using fuzzy...</td>\n",
       "    </tr>\n",
       "    <tr>\n",
       "      <th>123096</th>\n",
       "      <td>Google is winning on every AI front</td>\n",
       "      <td>https://www.thealgorithmicbridge.com/p/google-...</td>\n",
       "      <td>NaN</td>\n",
       "      <td>NaN</td>\n",
       "      <td>vinhnx</td>\n",
       "      <td>1005.0</td>\n",
       "      <td>1744430330</td>\n",
       "      <td>2025-04-12 03:58:50+00:00</td>\n",
       "      <td>story</td>\n",
       "      <td>43661235</td>\n",
       "      <td>NaN</td>\n",
       "      <td>819.0</td>\n",
       "      <td>NaN</td>\n",
       "      <td>NaN</td>\n",
       "      <td>43661235.0</td>\n",
       "      <td>i think the key is that google is the gateway...</td>\n",
       "    </tr>\n",
       "  </tbody>\n",
       "</table>\n",
       "<p>123097 rows × 16 columns</p>\n",
       "</div>"
      ]
     },
     "execution_count": 38,
     "metadata": {},
     "output_type": "execute_result"
    }
   ],
   "execution_count": 38
  },
  {
   "metadata": {
    "ExecuteTime": {
     "end_time": "2025-06-17T20:42:42.944966Z",
     "start_time": "2025-06-17T20:42:41.817252Z"
    }
   },
   "cell_type": "code",
   "source": [
    "def is_valid_content(text):\n",
    "    if not isinstance(text, str):\n",
    "        return False\n",
    "    text = text.strip()\n",
    "    word_count = len(text.split())\n",
    "\n",
    "    if word_count < 10:\n",
    "        return False\n",
    "    if word_count > 1000000:\n",
    "        return False\n",
    "\n",
    "    lowered = text.lower()\n",
    "    if any(kw in lowered for kw in [\"is hiring\", \"show hn\", \"ask hn\", \"tell hn\"]):\n",
    "        return False\n",
    "    return True\n",
    "\n",
    "df_filtered = df[df[\"content\"].apply(is_valid_content)]\n",
    "print(\"Data after filtering：\", len(df_filtered))"
   ],
   "id": "ecc3a6cfdb3548e",
   "outputs": [
    {
     "name": "stdout",
     "output_type": "stream",
     "text": [
      "Data after filtering： 66581\n"
     ]
    }
   ],
   "execution_count": 39
  },
  {
   "metadata": {
    "ExecuteTime": {
     "end_time": "2025-06-17T20:42:44.181674Z",
     "start_time": "2025-06-17T20:42:44.170394Z"
    }
   },
   "cell_type": "code",
   "source": "df_filtered",
   "id": "ae5e41c3b37a153",
   "outputs": [
    {
     "data": {
      "text/plain": [
       "                                                    title  \\\n",
       "12                                                    NaN   \n",
       "15                                                    NaN   \n",
       "35                                                    NaN   \n",
       "53      AI and the Mag 7. What will be the ROI on AI s...   \n",
       "55           curl - gzip integer overflow - CVE-2025-0725   \n",
       "...                                                   ...   \n",
       "123090                         PEP 750 – Template Strings   \n",
       "123092  The movie mistake mystery from \"Revenge of the...   \n",
       "123093  Pentagon to terminate $5.1B in IT contracts wi...   \n",
       "123094  A hackable AI assistant using a single SQLite ...   \n",
       "123096                Google is winning on every AI front   \n",
       "\n",
       "                                                      url text  dead  \\\n",
       "12                                                    NaN  NaN   NaN   \n",
       "15                                                    NaN  NaN   NaN   \n",
       "35                                                    NaN  NaN   NaN   \n",
       "53          https://mailchi.mp/verdadcap/ai-and-the-mag-7  NaN   NaN   \n",
       "55                https://curl.se/docs/CVE-2025-0725.html  NaN   NaN   \n",
       "...                                                   ...  ...   ...   \n",
       "123090                  https://peps.python.org/pep-0750/  NaN   NaN   \n",
       "123092  https://fxrant.blogspot.com/2025/04/the-movie-...  NaN   NaN   \n",
       "123093  https://www.reuters.com/world/us/pentagon-term...  NaN   NaN   \n",
       "123094  https://www.geoffreylitt.com/2025/04/12/how-i-...  NaN   NaN   \n",
       "123096  https://www.thealgorithmicbridge.com/p/google-...  NaN   NaN   \n",
       "\n",
       "                    by   score        time                  timestamp   type  \\\n",
       "12                 NaN     NaN  1739053859  2025-02-08 22:30:59+00:00  story   \n",
       "15                 NaN     NaN  1747232791  2025-05-14 14:26:31+00:00  story   \n",
       "35                 NaN     NaN  1743787122  2025-04-04 17:18:42+00:00  story   \n",
       "53           Bostonian     1.0  1739201495  2025-02-10 15:31:35+00:00  story   \n",
       "55      ChrisArchitect     1.0  1738773466  2025-02-05 16:37:46+00:00  story   \n",
       "...                ...     ...         ...                        ...    ...   \n",
       "123090         grep_it   437.0  1744316641  2025-04-10 20:24:01+00:00  story   \n",
       "123092        CharlesW   456.0  1745170168  2025-04-20 17:29:28+00:00  story   \n",
       "123093  oldprogrammer2   514.0  1744374193  2025-04-11 12:23:13+00:00  story   \n",
       "123094     stevekrouse   800.0  1744638778  2025-04-14 13:52:58+00:00  story   \n",
       "123096          vinhnx  1005.0  1744430330  2025-04-12 03:58:50+00:00  story   \n",
       "\n",
       "              id  parent_x  descendants  ranking  deleted    parent_y  \\\n",
       "12      42986746       NaN          NaN      NaN      NaN  42986746.0   \n",
       "15      43984951       NaN          NaN      NaN      NaN  43984951.0   \n",
       "35      43585317       NaN          NaN      NaN      NaN  43585317.0   \n",
       "53      43001433       NaN          0.0      NaN      NaN  43001433.0   \n",
       "55      42951046       NaN          1.0      NaN      NaN  42951046.0   \n",
       "...          ...       ...          ...      ...      ...         ...   \n",
       "123090  43647716       NaN        337.0      NaN      NaN  43647716.0   \n",
       "123092  43745141       NaN        172.0      NaN      NaN  43745141.0   \n",
       "123093  43653004       NaN        640.0      NaN      NaN  43653004.0   \n",
       "123094  43681287       NaN        174.0      NaN      NaN  43681287.0   \n",
       "123096  43661235       NaN        819.0      NaN      NaN  43661235.0   \n",
       "\n",
       "                                                  content  \n",
       "12      the app seems to just ask you an endless serie...  \n",
       "15      hi hn i asked this question on academia stacke...  \n",
       "35      i was working with a startup here in montreal ...  \n",
       "53       ai and the mag 7 what will be the roi on ai s...  \n",
       "55      related tbf cve 2025 0725 gzip integer overflo...  \n",
       "...                                                   ...  \n",
       "123090  it s fascinating how differently languages app...  \n",
       "123092  a bit late to the party but there is a famous ...  \n",
       "123093  good government contractors usually overcharge...  \n",
       "123094  love it such a nice idea coupled with a flawle...  \n",
       "123096   i think the key is that google is the gateway...  \n",
       "\n",
       "[66581 rows x 16 columns]"
      ],
      "text/html": [
       "<div>\n",
       "<style scoped>\n",
       "    .dataframe tbody tr th:only-of-type {\n",
       "        vertical-align: middle;\n",
       "    }\n",
       "\n",
       "    .dataframe tbody tr th {\n",
       "        vertical-align: top;\n",
       "    }\n",
       "\n",
       "    .dataframe thead th {\n",
       "        text-align: right;\n",
       "    }\n",
       "</style>\n",
       "<table border=\"1\" class=\"dataframe\">\n",
       "  <thead>\n",
       "    <tr style=\"text-align: right;\">\n",
       "      <th></th>\n",
       "      <th>title</th>\n",
       "      <th>url</th>\n",
       "      <th>text</th>\n",
       "      <th>dead</th>\n",
       "      <th>by</th>\n",
       "      <th>score</th>\n",
       "      <th>time</th>\n",
       "      <th>timestamp</th>\n",
       "      <th>type</th>\n",
       "      <th>id</th>\n",
       "      <th>parent_x</th>\n",
       "      <th>descendants</th>\n",
       "      <th>ranking</th>\n",
       "      <th>deleted</th>\n",
       "      <th>parent_y</th>\n",
       "      <th>content</th>\n",
       "    </tr>\n",
       "  </thead>\n",
       "  <tbody>\n",
       "    <tr>\n",
       "      <th>12</th>\n",
       "      <td>NaN</td>\n",
       "      <td>NaN</td>\n",
       "      <td>NaN</td>\n",
       "      <td>NaN</td>\n",
       "      <td>NaN</td>\n",
       "      <td>NaN</td>\n",
       "      <td>1739053859</td>\n",
       "      <td>2025-02-08 22:30:59+00:00</td>\n",
       "      <td>story</td>\n",
       "      <td>42986746</td>\n",
       "      <td>NaN</td>\n",
       "      <td>NaN</td>\n",
       "      <td>NaN</td>\n",
       "      <td>NaN</td>\n",
       "      <td>42986746.0</td>\n",
       "      <td>the app seems to just ask you an endless serie...</td>\n",
       "    </tr>\n",
       "    <tr>\n",
       "      <th>15</th>\n",
       "      <td>NaN</td>\n",
       "      <td>NaN</td>\n",
       "      <td>NaN</td>\n",
       "      <td>NaN</td>\n",
       "      <td>NaN</td>\n",
       "      <td>NaN</td>\n",
       "      <td>1747232791</td>\n",
       "      <td>2025-05-14 14:26:31+00:00</td>\n",
       "      <td>story</td>\n",
       "      <td>43984951</td>\n",
       "      <td>NaN</td>\n",
       "      <td>NaN</td>\n",
       "      <td>NaN</td>\n",
       "      <td>NaN</td>\n",
       "      <td>43984951.0</td>\n",
       "      <td>hi hn i asked this question on academia stacke...</td>\n",
       "    </tr>\n",
       "    <tr>\n",
       "      <th>35</th>\n",
       "      <td>NaN</td>\n",
       "      <td>NaN</td>\n",
       "      <td>NaN</td>\n",
       "      <td>NaN</td>\n",
       "      <td>NaN</td>\n",
       "      <td>NaN</td>\n",
       "      <td>1743787122</td>\n",
       "      <td>2025-04-04 17:18:42+00:00</td>\n",
       "      <td>story</td>\n",
       "      <td>43585317</td>\n",
       "      <td>NaN</td>\n",
       "      <td>NaN</td>\n",
       "      <td>NaN</td>\n",
       "      <td>NaN</td>\n",
       "      <td>43585317.0</td>\n",
       "      <td>i was working with a startup here in montreal ...</td>\n",
       "    </tr>\n",
       "    <tr>\n",
       "      <th>53</th>\n",
       "      <td>AI and the Mag 7. What will be the ROI on AI s...</td>\n",
       "      <td>https://mailchi.mp/verdadcap/ai-and-the-mag-7</td>\n",
       "      <td>NaN</td>\n",
       "      <td>NaN</td>\n",
       "      <td>Bostonian</td>\n",
       "      <td>1.0</td>\n",
       "      <td>1739201495</td>\n",
       "      <td>2025-02-10 15:31:35+00:00</td>\n",
       "      <td>story</td>\n",
       "      <td>43001433</td>\n",
       "      <td>NaN</td>\n",
       "      <td>0.0</td>\n",
       "      <td>NaN</td>\n",
       "      <td>NaN</td>\n",
       "      <td>43001433.0</td>\n",
       "      <td>ai and the mag 7 what will be the roi on ai s...</td>\n",
       "    </tr>\n",
       "    <tr>\n",
       "      <th>55</th>\n",
       "      <td>curl - gzip integer overflow - CVE-2025-0725</td>\n",
       "      <td>https://curl.se/docs/CVE-2025-0725.html</td>\n",
       "      <td>NaN</td>\n",
       "      <td>NaN</td>\n",
       "      <td>ChrisArchitect</td>\n",
       "      <td>1.0</td>\n",
       "      <td>1738773466</td>\n",
       "      <td>2025-02-05 16:37:46+00:00</td>\n",
       "      <td>story</td>\n",
       "      <td>42951046</td>\n",
       "      <td>NaN</td>\n",
       "      <td>1.0</td>\n",
       "      <td>NaN</td>\n",
       "      <td>NaN</td>\n",
       "      <td>42951046.0</td>\n",
       "      <td>related tbf cve 2025 0725 gzip integer overflo...</td>\n",
       "    </tr>\n",
       "    <tr>\n",
       "      <th>...</th>\n",
       "      <td>...</td>\n",
       "      <td>...</td>\n",
       "      <td>...</td>\n",
       "      <td>...</td>\n",
       "      <td>...</td>\n",
       "      <td>...</td>\n",
       "      <td>...</td>\n",
       "      <td>...</td>\n",
       "      <td>...</td>\n",
       "      <td>...</td>\n",
       "      <td>...</td>\n",
       "      <td>...</td>\n",
       "      <td>...</td>\n",
       "      <td>...</td>\n",
       "      <td>...</td>\n",
       "      <td>...</td>\n",
       "    </tr>\n",
       "    <tr>\n",
       "      <th>123090</th>\n",
       "      <td>PEP 750 – Template Strings</td>\n",
       "      <td>https://peps.python.org/pep-0750/</td>\n",
       "      <td>NaN</td>\n",
       "      <td>NaN</td>\n",
       "      <td>grep_it</td>\n",
       "      <td>437.0</td>\n",
       "      <td>1744316641</td>\n",
       "      <td>2025-04-10 20:24:01+00:00</td>\n",
       "      <td>story</td>\n",
       "      <td>43647716</td>\n",
       "      <td>NaN</td>\n",
       "      <td>337.0</td>\n",
       "      <td>NaN</td>\n",
       "      <td>NaN</td>\n",
       "      <td>43647716.0</td>\n",
       "      <td>it s fascinating how differently languages app...</td>\n",
       "    </tr>\n",
       "    <tr>\n",
       "      <th>123092</th>\n",
       "      <td>The movie mistake mystery from \"Revenge of the...</td>\n",
       "      <td>https://fxrant.blogspot.com/2025/04/the-movie-...</td>\n",
       "      <td>NaN</td>\n",
       "      <td>NaN</td>\n",
       "      <td>CharlesW</td>\n",
       "      <td>456.0</td>\n",
       "      <td>1745170168</td>\n",
       "      <td>2025-04-20 17:29:28+00:00</td>\n",
       "      <td>story</td>\n",
       "      <td>43745141</td>\n",
       "      <td>NaN</td>\n",
       "      <td>172.0</td>\n",
       "      <td>NaN</td>\n",
       "      <td>NaN</td>\n",
       "      <td>43745141.0</td>\n",
       "      <td>a bit late to the party but there is a famous ...</td>\n",
       "    </tr>\n",
       "    <tr>\n",
       "      <th>123093</th>\n",
       "      <td>Pentagon to terminate $5.1B in IT contracts wi...</td>\n",
       "      <td>https://www.reuters.com/world/us/pentagon-term...</td>\n",
       "      <td>NaN</td>\n",
       "      <td>NaN</td>\n",
       "      <td>oldprogrammer2</td>\n",
       "      <td>514.0</td>\n",
       "      <td>1744374193</td>\n",
       "      <td>2025-04-11 12:23:13+00:00</td>\n",
       "      <td>story</td>\n",
       "      <td>43653004</td>\n",
       "      <td>NaN</td>\n",
       "      <td>640.0</td>\n",
       "      <td>NaN</td>\n",
       "      <td>NaN</td>\n",
       "      <td>43653004.0</td>\n",
       "      <td>good government contractors usually overcharge...</td>\n",
       "    </tr>\n",
       "    <tr>\n",
       "      <th>123094</th>\n",
       "      <td>A hackable AI assistant using a single SQLite ...</td>\n",
       "      <td>https://www.geoffreylitt.com/2025/04/12/how-i-...</td>\n",
       "      <td>NaN</td>\n",
       "      <td>NaN</td>\n",
       "      <td>stevekrouse</td>\n",
       "      <td>800.0</td>\n",
       "      <td>1744638778</td>\n",
       "      <td>2025-04-14 13:52:58+00:00</td>\n",
       "      <td>story</td>\n",
       "      <td>43681287</td>\n",
       "      <td>NaN</td>\n",
       "      <td>174.0</td>\n",
       "      <td>NaN</td>\n",
       "      <td>NaN</td>\n",
       "      <td>43681287.0</td>\n",
       "      <td>love it such a nice idea coupled with a flawle...</td>\n",
       "    </tr>\n",
       "    <tr>\n",
       "      <th>123096</th>\n",
       "      <td>Google is winning on every AI front</td>\n",
       "      <td>https://www.thealgorithmicbridge.com/p/google-...</td>\n",
       "      <td>NaN</td>\n",
       "      <td>NaN</td>\n",
       "      <td>vinhnx</td>\n",
       "      <td>1005.0</td>\n",
       "      <td>1744430330</td>\n",
       "      <td>2025-04-12 03:58:50+00:00</td>\n",
       "      <td>story</td>\n",
       "      <td>43661235</td>\n",
       "      <td>NaN</td>\n",
       "      <td>819.0</td>\n",
       "      <td>NaN</td>\n",
       "      <td>NaN</td>\n",
       "      <td>43661235.0</td>\n",
       "      <td>i think the key is that google is the gateway...</td>\n",
       "    </tr>\n",
       "  </tbody>\n",
       "</table>\n",
       "<p>66581 rows × 16 columns</p>\n",
       "</div>"
      ]
     },
     "execution_count": 40,
     "metadata": {},
     "output_type": "execute_result"
    }
   ],
   "execution_count": 40
  },
  {
   "metadata": {
    "ExecuteTime": {
     "end_time": "2025-06-17T20:42:48.513041Z",
     "start_time": "2025-06-17T20:42:48.353923Z"
    }
   },
   "cell_type": "code",
   "source": [
    "# === Randomly sample 1000 for Zero-Shot classification test ===\n",
    "df_sample = df_filtered.sample(n=10000, random_state=42)\n",
    "df_sample.to_csv(\"sample_10000_for_zero_shot.csv\", index=False)"
   ],
   "id": "4009e54eb1007615",
   "outputs": [],
   "execution_count": 41
  },
  {
   "metadata": {
    "ExecuteTime": {
     "end_time": "2025-06-17T20:42:50.779164Z",
     "start_time": "2025-06-17T20:42:50.638877Z"
    }
   },
   "cell_type": "code",
   "source": [
    "BATCH_SIZE = 16\n",
    "df = pd.read_csv(\"sample_10000_for_zero_shot.csv\")\n",
    "df"
   ],
   "id": "aa51d66abdc30761",
   "outputs": [
    {
     "data": {
      "text/plain": [
       "                                                  title  \\\n",
       "0     Not Incentivized yet Efficient: Working from H...   \n",
       "1          Two Americas, one bank branch, and $50k cash   \n",
       "2     We achieve zero-downtime deployment (DB, back ...   \n",
       "3     2 Planes Abort Landings as Army Helicopter Fli...   \n",
       "4     Netflix shares hit record as subscriber growth...   \n",
       "...                                                 ...   \n",
       "9995                                 Systemd ParticleOS   \n",
       "9996  YouTubers Are Selling Their Unused Video Foota...   \n",
       "9997  BleepingComputer: Microsoft states creation of...   \n",
       "9998  Newscard: Decentralized, Anonymous Pastebin vi...   \n",
       "9999  Oxford researchers awarded ARIA funding to dev...   \n",
       "\n",
       "                                                    url text  dead  \\\n",
       "0     https://papers.ssrn.com/sol3/papers.cfm?abstra...  NaN   NaN   \n",
       "1     https://www.bitsaboutmoney.com/archive/two-ame...  NaN   NaN   \n",
       "2     https://ivelum.com/blog/zero-downtime-deployment/  NaN   NaN   \n",
       "3     https://www.nytimes.com/2025/05/02/us/politics...  NaN   NaN   \n",
       "4     https://www.reuters.com/technology/netflix-sha...  NaN   NaN   \n",
       "...                                                 ...  ...   ...   \n",
       "9995              https://github.com/systemd/particleos  NaN   NaN   \n",
       "9996  https://www.bloomberg.com/news/articles/2025-0...  NaN   NaN   \n",
       "9997  https://twitter.com/bleepincomputer/status/191...  NaN   NaN   \n",
       "9998               https://codeberg.org/OCTADE/newscard  NaN   NaN   \n",
       "9999  https://www.ox.ac.uk/news/2025-04-10-oxford-re...  NaN   NaN   \n",
       "\n",
       "               by  score        time                  timestamp   type  \\\n",
       "0           MPLan    2.0  1740937326  2025-03-02 17:42:06+00:00  story   \n",
       "1     dangrossman   78.0  1741198135  2025-03-05 18:08:55+00:00  story   \n",
       "2       stebunovd    1.0  1739893609  2025-02-18 15:46:49+00:00  story   \n",
       "3       bookofjoe   40.0  1746529841  2025-05-06 11:10:41+00:00  story   \n",
       "4         testrun    3.0  1737552153  2025-01-22 13:22:33+00:00  story   \n",
       "...           ...    ...         ...                        ...    ...   \n",
       "9995    kblissett   89.0  1744329521  2025-04-10 23:58:41+00:00  story   \n",
       "9996         phgn    4.0  1736552868  2025-01-10 23:47:48+00:00  story   \n",
       "9997     Zarkex01    4.0  1744356604  2025-04-11 07:30:04+00:00  story   \n",
       "9998       OCTADE    2.0  1739183575  2025-02-10 10:32:55+00:00  story   \n",
       "9999      gnabgib    3.0  1744313691  2025-04-10 19:34:51+00:00  story   \n",
       "\n",
       "            id  parent_x  descendants  ranking  deleted    parent_y  \\\n",
       "0     43232898       NaN          1.0      NaN      NaN  43232898.0   \n",
       "1     43270103       NaN         66.0      NaN      NaN  43270103.0   \n",
       "2     43090853       NaN          0.0      NaN      NaN         NaN   \n",
       "3     43903771       NaN         17.0      NaN      NaN  43903771.0   \n",
       "4     42792508       NaN          0.0      NaN      NaN  42792508.0   \n",
       "...        ...       ...          ...      ...      ...         ...   \n",
       "9995  43649088       NaN         68.0      NaN      NaN  43649088.0   \n",
       "9996  42661742       NaN          0.0      NaN      NaN         NaN   \n",
       "9997  43651347       NaN          1.0      NaN      NaN  43651347.0   \n",
       "9998  42998873       NaN          1.0      NaN      NaN  42998873.0   \n",
       "9999  43647321       NaN          0.0      NaN      NaN         NaN   \n",
       "\n",
       "                                                content  \n",
       "0     fenizia and kirchmaier 2025 fk studied the imp...  \n",
       "1     coming from a fan of the blog newsletter and w...  \n",
       "2      we achieve zero downtime deployment db back e...  \n",
       "3     commercial pilot and commentor indicates extre...  \n",
       "4      netflix shares hit record as subscriber growt...  \n",
       "...                                                 ...  \n",
       "9995  i work in the embedded space i d absolutely lo...  \n",
       "9996   youtubers are selling their unused video foot...  \n",
       "9997   yes we totally meant to do that anyone who go...  \n",
       "9998  newscard encrypts a local text file and publis...  \n",
       "9999   oxford researchers awarded aria funding to de...  \n",
       "\n",
       "[10000 rows x 16 columns]"
      ],
      "text/html": [
       "<div>\n",
       "<style scoped>\n",
       "    .dataframe tbody tr th:only-of-type {\n",
       "        vertical-align: middle;\n",
       "    }\n",
       "\n",
       "    .dataframe tbody tr th {\n",
       "        vertical-align: top;\n",
       "    }\n",
       "\n",
       "    .dataframe thead th {\n",
       "        text-align: right;\n",
       "    }\n",
       "</style>\n",
       "<table border=\"1\" class=\"dataframe\">\n",
       "  <thead>\n",
       "    <tr style=\"text-align: right;\">\n",
       "      <th></th>\n",
       "      <th>title</th>\n",
       "      <th>url</th>\n",
       "      <th>text</th>\n",
       "      <th>dead</th>\n",
       "      <th>by</th>\n",
       "      <th>score</th>\n",
       "      <th>time</th>\n",
       "      <th>timestamp</th>\n",
       "      <th>type</th>\n",
       "      <th>id</th>\n",
       "      <th>parent_x</th>\n",
       "      <th>descendants</th>\n",
       "      <th>ranking</th>\n",
       "      <th>deleted</th>\n",
       "      <th>parent_y</th>\n",
       "      <th>content</th>\n",
       "    </tr>\n",
       "  </thead>\n",
       "  <tbody>\n",
       "    <tr>\n",
       "      <th>0</th>\n",
       "      <td>Not Incentivized yet Efficient: Working from H...</td>\n",
       "      <td>https://papers.ssrn.com/sol3/papers.cfm?abstra...</td>\n",
       "      <td>NaN</td>\n",
       "      <td>NaN</td>\n",
       "      <td>MPLan</td>\n",
       "      <td>2.0</td>\n",
       "      <td>1740937326</td>\n",
       "      <td>2025-03-02 17:42:06+00:00</td>\n",
       "      <td>story</td>\n",
       "      <td>43232898</td>\n",
       "      <td>NaN</td>\n",
       "      <td>1.0</td>\n",
       "      <td>NaN</td>\n",
       "      <td>NaN</td>\n",
       "      <td>43232898.0</td>\n",
       "      <td>fenizia and kirchmaier 2025 fk studied the imp...</td>\n",
       "    </tr>\n",
       "    <tr>\n",
       "      <th>1</th>\n",
       "      <td>Two Americas, one bank branch, and $50k cash</td>\n",
       "      <td>https://www.bitsaboutmoney.com/archive/two-ame...</td>\n",
       "      <td>NaN</td>\n",
       "      <td>NaN</td>\n",
       "      <td>dangrossman</td>\n",
       "      <td>78.0</td>\n",
       "      <td>1741198135</td>\n",
       "      <td>2025-03-05 18:08:55+00:00</td>\n",
       "      <td>story</td>\n",
       "      <td>43270103</td>\n",
       "      <td>NaN</td>\n",
       "      <td>66.0</td>\n",
       "      <td>NaN</td>\n",
       "      <td>NaN</td>\n",
       "      <td>43270103.0</td>\n",
       "      <td>coming from a fan of the blog newsletter and w...</td>\n",
       "    </tr>\n",
       "    <tr>\n",
       "      <th>2</th>\n",
       "      <td>We achieve zero-downtime deployment (DB, back ...</td>\n",
       "      <td>https://ivelum.com/blog/zero-downtime-deployment/</td>\n",
       "      <td>NaN</td>\n",
       "      <td>NaN</td>\n",
       "      <td>stebunovd</td>\n",
       "      <td>1.0</td>\n",
       "      <td>1739893609</td>\n",
       "      <td>2025-02-18 15:46:49+00:00</td>\n",
       "      <td>story</td>\n",
       "      <td>43090853</td>\n",
       "      <td>NaN</td>\n",
       "      <td>0.0</td>\n",
       "      <td>NaN</td>\n",
       "      <td>NaN</td>\n",
       "      <td>NaN</td>\n",
       "      <td>we achieve zero downtime deployment db back e...</td>\n",
       "    </tr>\n",
       "    <tr>\n",
       "      <th>3</th>\n",
       "      <td>2 Planes Abort Landings as Army Helicopter Fli...</td>\n",
       "      <td>https://www.nytimes.com/2025/05/02/us/politics...</td>\n",
       "      <td>NaN</td>\n",
       "      <td>NaN</td>\n",
       "      <td>bookofjoe</td>\n",
       "      <td>40.0</td>\n",
       "      <td>1746529841</td>\n",
       "      <td>2025-05-06 11:10:41+00:00</td>\n",
       "      <td>story</td>\n",
       "      <td>43903771</td>\n",
       "      <td>NaN</td>\n",
       "      <td>17.0</td>\n",
       "      <td>NaN</td>\n",
       "      <td>NaN</td>\n",
       "      <td>43903771.0</td>\n",
       "      <td>commercial pilot and commentor indicates extre...</td>\n",
       "    </tr>\n",
       "    <tr>\n",
       "      <th>4</th>\n",
       "      <td>Netflix shares hit record as subscriber growth...</td>\n",
       "      <td>https://www.reuters.com/technology/netflix-sha...</td>\n",
       "      <td>NaN</td>\n",
       "      <td>NaN</td>\n",
       "      <td>testrun</td>\n",
       "      <td>3.0</td>\n",
       "      <td>1737552153</td>\n",
       "      <td>2025-01-22 13:22:33+00:00</td>\n",
       "      <td>story</td>\n",
       "      <td>42792508</td>\n",
       "      <td>NaN</td>\n",
       "      <td>0.0</td>\n",
       "      <td>NaN</td>\n",
       "      <td>NaN</td>\n",
       "      <td>42792508.0</td>\n",
       "      <td>netflix shares hit record as subscriber growt...</td>\n",
       "    </tr>\n",
       "    <tr>\n",
       "      <th>...</th>\n",
       "      <td>...</td>\n",
       "      <td>...</td>\n",
       "      <td>...</td>\n",
       "      <td>...</td>\n",
       "      <td>...</td>\n",
       "      <td>...</td>\n",
       "      <td>...</td>\n",
       "      <td>...</td>\n",
       "      <td>...</td>\n",
       "      <td>...</td>\n",
       "      <td>...</td>\n",
       "      <td>...</td>\n",
       "      <td>...</td>\n",
       "      <td>...</td>\n",
       "      <td>...</td>\n",
       "      <td>...</td>\n",
       "    </tr>\n",
       "    <tr>\n",
       "      <th>9995</th>\n",
       "      <td>Systemd ParticleOS</td>\n",
       "      <td>https://github.com/systemd/particleos</td>\n",
       "      <td>NaN</td>\n",
       "      <td>NaN</td>\n",
       "      <td>kblissett</td>\n",
       "      <td>89.0</td>\n",
       "      <td>1744329521</td>\n",
       "      <td>2025-04-10 23:58:41+00:00</td>\n",
       "      <td>story</td>\n",
       "      <td>43649088</td>\n",
       "      <td>NaN</td>\n",
       "      <td>68.0</td>\n",
       "      <td>NaN</td>\n",
       "      <td>NaN</td>\n",
       "      <td>43649088.0</td>\n",
       "      <td>i work in the embedded space i d absolutely lo...</td>\n",
       "    </tr>\n",
       "    <tr>\n",
       "      <th>9996</th>\n",
       "      <td>YouTubers Are Selling Their Unused Video Foota...</td>\n",
       "      <td>https://www.bloomberg.com/news/articles/2025-0...</td>\n",
       "      <td>NaN</td>\n",
       "      <td>NaN</td>\n",
       "      <td>phgn</td>\n",
       "      <td>4.0</td>\n",
       "      <td>1736552868</td>\n",
       "      <td>2025-01-10 23:47:48+00:00</td>\n",
       "      <td>story</td>\n",
       "      <td>42661742</td>\n",
       "      <td>NaN</td>\n",
       "      <td>0.0</td>\n",
       "      <td>NaN</td>\n",
       "      <td>NaN</td>\n",
       "      <td>NaN</td>\n",
       "      <td>youtubers are selling their unused video foot...</td>\n",
       "    </tr>\n",
       "    <tr>\n",
       "      <th>9997</th>\n",
       "      <td>BleepingComputer: Microsoft states creation of...</td>\n",
       "      <td>https://twitter.com/bleepincomputer/status/191...</td>\n",
       "      <td>NaN</td>\n",
       "      <td>NaN</td>\n",
       "      <td>Zarkex01</td>\n",
       "      <td>4.0</td>\n",
       "      <td>1744356604</td>\n",
       "      <td>2025-04-11 07:30:04+00:00</td>\n",
       "      <td>story</td>\n",
       "      <td>43651347</td>\n",
       "      <td>NaN</td>\n",
       "      <td>1.0</td>\n",
       "      <td>NaN</td>\n",
       "      <td>NaN</td>\n",
       "      <td>43651347.0</td>\n",
       "      <td>yes we totally meant to do that anyone who go...</td>\n",
       "    </tr>\n",
       "    <tr>\n",
       "      <th>9998</th>\n",
       "      <td>Newscard: Decentralized, Anonymous Pastebin vi...</td>\n",
       "      <td>https://codeberg.org/OCTADE/newscard</td>\n",
       "      <td>NaN</td>\n",
       "      <td>NaN</td>\n",
       "      <td>OCTADE</td>\n",
       "      <td>2.0</td>\n",
       "      <td>1739183575</td>\n",
       "      <td>2025-02-10 10:32:55+00:00</td>\n",
       "      <td>story</td>\n",
       "      <td>42998873</td>\n",
       "      <td>NaN</td>\n",
       "      <td>1.0</td>\n",
       "      <td>NaN</td>\n",
       "      <td>NaN</td>\n",
       "      <td>42998873.0</td>\n",
       "      <td>newscard encrypts a local text file and publis...</td>\n",
       "    </tr>\n",
       "    <tr>\n",
       "      <th>9999</th>\n",
       "      <td>Oxford researchers awarded ARIA funding to dev...</td>\n",
       "      <td>https://www.ox.ac.uk/news/2025-04-10-oxford-re...</td>\n",
       "      <td>NaN</td>\n",
       "      <td>NaN</td>\n",
       "      <td>gnabgib</td>\n",
       "      <td>3.0</td>\n",
       "      <td>1744313691</td>\n",
       "      <td>2025-04-10 19:34:51+00:00</td>\n",
       "      <td>story</td>\n",
       "      <td>43647321</td>\n",
       "      <td>NaN</td>\n",
       "      <td>0.0</td>\n",
       "      <td>NaN</td>\n",
       "      <td>NaN</td>\n",
       "      <td>NaN</td>\n",
       "      <td>oxford researchers awarded aria funding to de...</td>\n",
       "    </tr>\n",
       "  </tbody>\n",
       "</table>\n",
       "<p>10000 rows × 16 columns</p>\n",
       "</div>"
      ]
     },
     "execution_count": 42,
     "metadata": {},
     "output_type": "execute_result"
    }
   ],
   "execution_count": 42
  },
  {
   "metadata": {
    "ExecuteTime": {
     "end_time": "2025-06-17T20:42:52.541517Z",
     "start_time": "2025-06-17T20:42:52.537713Z"
    }
   },
   "cell_type": "code",
   "source": [
    "candidate_labels = [\n",
    "    \"technology\", \"business\", \"entertainment\", \"science\", \"health\",\n",
    "    \"education\", \"social issues\", \"politics\", \"psychology\", \"philosophy\",\n",
    "    \"travel & lifestyle\", \"history\", \"economics\", \"AI/Machine Learning\",\n",
    "]\n"
   ],
   "id": "80366e25671b90de",
   "outputs": [],
   "execution_count": 43
  },
  {
   "metadata": {},
   "cell_type": "markdown",
   "source": "#   Model-distilbart-mnli-12-1",
   "id": "69247e47ab444b93"
  },
  {
   "metadata": {
    "ExecuteTime": {
     "end_time": "2025-06-17T20:42:55.795223Z",
     "start_time": "2025-06-17T20:42:55.792193Z"
    }
   },
   "cell_type": "code",
   "source": [
    "# Parameter setting\n",
    "INPUT_CSV = \"sample_10000_for_zero_shot.csv\"\n",
    "OUTPUT_CSV = \"sample_10000_for_zero_shot.csv\"\n",
    "BATCH_SIZE = 32\n",
    "MODEL_NAME = \"valhalla/distilbart-mnli-12-1\""
   ],
   "id": "c3c30f070fd7bb70",
   "outputs": [],
   "execution_count": 44
  },
  {
   "metadata": {
    "ExecuteTime": {
     "end_time": "2025-06-17T20:42:56.717433Z",
     "start_time": "2025-06-17T20:42:56.579915Z"
    }
   },
   "cell_type": "code",
   "source": [
    "df = pd.read_csv(INPUT_CSV)\n",
    "texts = df[\"content\"].tolist()"
   ],
   "id": "368a370d2795e32a",
   "outputs": [],
   "execution_count": 45
  },
  {
   "metadata": {
    "ExecuteTime": {
     "end_time": "2025-06-17T20:42:59.762478Z",
     "start_time": "2025-06-17T20:42:58.359953Z"
    }
   },
   "cell_type": "code",
   "source": [
    "# Load model (using GPU 0)\n",
    "\n",
    "classifier = pipeline(\"zero-shot-classification\",\n",
    "                      model=MODEL_NAME,\n",
    "                      device=0)"
   ],
   "id": "8fc938cdabb4f9b9",
   "outputs": [
    {
     "name": "stderr",
     "output_type": "stream",
     "text": [
      "Device set to use cuda:0\n"
     ]
    }
   ],
   "execution_count": 46
  },
  {
   "metadata": {
    "ExecuteTime": {
     "end_time": "2025-06-17T20:43:03.029022Z",
     "start_time": "2025-06-17T20:43:03.026041Z"
    }
   },
   "cell_type": "code",
   "source": "tqdm.pandas()",
   "id": "742c01054696a69b",
   "outputs": [],
   "execution_count": 47
  },
  {
   "metadata": {
    "ExecuteTime": {
     "end_time": "2025-06-17T21:03:29.288643Z",
     "start_time": "2025-06-17T20:43:10.957534Z"
    }
   },
   "cell_type": "code",
   "source": [
    "results = []\n",
    "for i in tqdm(range(0, len(texts), BATCH_SIZE), desc=\"Running Zero-Shot Inference (Top-1)\"):\n",
    "    batch = texts[i:i + BATCH_SIZE]\n",
    "    output = classifier(batch, candidate_labels=candidate_labels, multi_label=True)\n",
    "    results.extend(output)"
   ],
   "id": "cefc8e80db900805",
   "outputs": [
    {
     "name": "stderr",
     "output_type": "stream",
     "text": [
      "Running Zero-Shot Inference (Top-1):   3%|▎         | 10/313 [00:37<18:17,  3.62s/it]You seem to be using the pipelines sequentially on GPU. In order to maximize efficiency please use a dataset\n",
      "Running Zero-Shot Inference (Top-1): 100%|██████████| 313/313 [20:18<00:00,  3.89s/it]\n"
     ]
    }
   ],
   "execution_count": 48
  },
  {
   "metadata": {
    "ExecuteTime": {
     "end_time": "2025-06-17T21:04:50.986382Z",
     "start_time": "2025-06-17T21:04:50.978188Z"
    }
   },
   "cell_type": "code",
   "source": [
    "#Extract Top-1 label + score\n",
    "top1_labels = [r[\"labels\"][0] for r in results]\n",
    "top1_scores = [r[\"scores\"][0] for r in results]"
   ],
   "id": "58bd155be63739a2",
   "outputs": [],
   "execution_count": 49
  },
  {
   "metadata": {
    "ExecuteTime": {
     "end_time": "2025-06-17T21:04:53.385726Z",
     "start_time": "2025-06-17T21:04:53.380506Z"
    }
   },
   "cell_type": "code",
   "source": [
    "df[\"predict\"] = top1_labels\n",
    "df[\"confidence\"] = top1_scores"
   ],
   "id": "867317b0f4aca05e",
   "outputs": [],
   "execution_count": 50
  },
  {
   "metadata": {
    "ExecuteTime": {
     "end_time": "2025-06-17T21:05:04.890117Z",
     "start_time": "2025-06-17T21:05:04.729018Z"
    }
   },
   "cell_type": "code",
   "source": [
    "df.to_csv(OUTPUT_CSV, index=False)\n",
    "df"
   ],
   "id": "83f4ce295448a954",
   "outputs": [
    {
     "data": {
      "text/plain": [
       "                                                  title  \\\n",
       "0     Not Incentivized yet Efficient: Working from H...   \n",
       "1          Two Americas, one bank branch, and $50k cash   \n",
       "2     We achieve zero-downtime deployment (DB, back ...   \n",
       "3     2 Planes Abort Landings as Army Helicopter Fli...   \n",
       "4     Netflix shares hit record as subscriber growth...   \n",
       "...                                                 ...   \n",
       "9995                                 Systemd ParticleOS   \n",
       "9996  YouTubers Are Selling Their Unused Video Foota...   \n",
       "9997  BleepingComputer: Microsoft states creation of...   \n",
       "9998  Newscard: Decentralized, Anonymous Pastebin vi...   \n",
       "9999  Oxford researchers awarded ARIA funding to dev...   \n",
       "\n",
       "                                                    url text  dead  \\\n",
       "0     https://papers.ssrn.com/sol3/papers.cfm?abstra...  NaN   NaN   \n",
       "1     https://www.bitsaboutmoney.com/archive/two-ame...  NaN   NaN   \n",
       "2     https://ivelum.com/blog/zero-downtime-deployment/  NaN   NaN   \n",
       "3     https://www.nytimes.com/2025/05/02/us/politics...  NaN   NaN   \n",
       "4     https://www.reuters.com/technology/netflix-sha...  NaN   NaN   \n",
       "...                                                 ...  ...   ...   \n",
       "9995              https://github.com/systemd/particleos  NaN   NaN   \n",
       "9996  https://www.bloomberg.com/news/articles/2025-0...  NaN   NaN   \n",
       "9997  https://twitter.com/bleepincomputer/status/191...  NaN   NaN   \n",
       "9998               https://codeberg.org/OCTADE/newscard  NaN   NaN   \n",
       "9999  https://www.ox.ac.uk/news/2025-04-10-oxford-re...  NaN   NaN   \n",
       "\n",
       "               by  score        time                  timestamp   type  \\\n",
       "0           MPLan    2.0  1740937326  2025-03-02 17:42:06+00:00  story   \n",
       "1     dangrossman   78.0  1741198135  2025-03-05 18:08:55+00:00  story   \n",
       "2       stebunovd    1.0  1739893609  2025-02-18 15:46:49+00:00  story   \n",
       "3       bookofjoe   40.0  1746529841  2025-05-06 11:10:41+00:00  story   \n",
       "4         testrun    3.0  1737552153  2025-01-22 13:22:33+00:00  story   \n",
       "...           ...    ...         ...                        ...    ...   \n",
       "9995    kblissett   89.0  1744329521  2025-04-10 23:58:41+00:00  story   \n",
       "9996         phgn    4.0  1736552868  2025-01-10 23:47:48+00:00  story   \n",
       "9997     Zarkex01    4.0  1744356604  2025-04-11 07:30:04+00:00  story   \n",
       "9998       OCTADE    2.0  1739183575  2025-02-10 10:32:55+00:00  story   \n",
       "9999      gnabgib    3.0  1744313691  2025-04-10 19:34:51+00:00  story   \n",
       "\n",
       "            id  parent_x  descendants  ranking  deleted    parent_y  \\\n",
       "0     43232898       NaN          1.0      NaN      NaN  43232898.0   \n",
       "1     43270103       NaN         66.0      NaN      NaN  43270103.0   \n",
       "2     43090853       NaN          0.0      NaN      NaN         NaN   \n",
       "3     43903771       NaN         17.0      NaN      NaN  43903771.0   \n",
       "4     42792508       NaN          0.0      NaN      NaN  42792508.0   \n",
       "...        ...       ...          ...      ...      ...         ...   \n",
       "9995  43649088       NaN         68.0      NaN      NaN  43649088.0   \n",
       "9996  42661742       NaN          0.0      NaN      NaN         NaN   \n",
       "9997  43651347       NaN          1.0      NaN      NaN  43651347.0   \n",
       "9998  42998873       NaN          1.0      NaN      NaN  42998873.0   \n",
       "9999  43647321       NaN          0.0      NaN      NaN         NaN   \n",
       "\n",
       "                                                content             predict  \\\n",
       "0     fenizia and kirchmaier 2025 fk studied the imp...          technology   \n",
       "1     coming from a fan of the blog newsletter and w...  travel & lifestyle   \n",
       "2      we achieve zero downtime deployment db back e...          technology   \n",
       "3     commercial pilot and commentor indicates extre...       entertainment   \n",
       "4      netflix shares hit record as subscriber growt...       entertainment   \n",
       "...                                                 ...                 ...   \n",
       "9995  i work in the embedded space i d absolutely lo...          technology   \n",
       "9996   youtubers are selling their unused video foot...            business   \n",
       "9997   yes we totally meant to do that anyone who go...          technology   \n",
       "9998  newscard encrypts a local text file and publis...          technology   \n",
       "9999   oxford researchers awarded aria funding to de...          technology   \n",
       "\n",
       "      confidence  \n",
       "0       0.551147  \n",
       "1       0.843752  \n",
       "2       0.982216  \n",
       "3       0.963109  \n",
       "4       0.976601  \n",
       "...          ...  \n",
       "9995    0.812814  \n",
       "9996    0.959133  \n",
       "9997    0.896417  \n",
       "9998    0.945435  \n",
       "9999    0.925219  \n",
       "\n",
       "[10000 rows x 18 columns]"
      ],
      "text/html": [
       "<div>\n",
       "<style scoped>\n",
       "    .dataframe tbody tr th:only-of-type {\n",
       "        vertical-align: middle;\n",
       "    }\n",
       "\n",
       "    .dataframe tbody tr th {\n",
       "        vertical-align: top;\n",
       "    }\n",
       "\n",
       "    .dataframe thead th {\n",
       "        text-align: right;\n",
       "    }\n",
       "</style>\n",
       "<table border=\"1\" class=\"dataframe\">\n",
       "  <thead>\n",
       "    <tr style=\"text-align: right;\">\n",
       "      <th></th>\n",
       "      <th>title</th>\n",
       "      <th>url</th>\n",
       "      <th>text</th>\n",
       "      <th>dead</th>\n",
       "      <th>by</th>\n",
       "      <th>score</th>\n",
       "      <th>time</th>\n",
       "      <th>timestamp</th>\n",
       "      <th>type</th>\n",
       "      <th>id</th>\n",
       "      <th>parent_x</th>\n",
       "      <th>descendants</th>\n",
       "      <th>ranking</th>\n",
       "      <th>deleted</th>\n",
       "      <th>parent_y</th>\n",
       "      <th>content</th>\n",
       "      <th>predict</th>\n",
       "      <th>confidence</th>\n",
       "    </tr>\n",
       "  </thead>\n",
       "  <tbody>\n",
       "    <tr>\n",
       "      <th>0</th>\n",
       "      <td>Not Incentivized yet Efficient: Working from H...</td>\n",
       "      <td>https://papers.ssrn.com/sol3/papers.cfm?abstra...</td>\n",
       "      <td>NaN</td>\n",
       "      <td>NaN</td>\n",
       "      <td>MPLan</td>\n",
       "      <td>2.0</td>\n",
       "      <td>1740937326</td>\n",
       "      <td>2025-03-02 17:42:06+00:00</td>\n",
       "      <td>story</td>\n",
       "      <td>43232898</td>\n",
       "      <td>NaN</td>\n",
       "      <td>1.0</td>\n",
       "      <td>NaN</td>\n",
       "      <td>NaN</td>\n",
       "      <td>43232898.0</td>\n",
       "      <td>fenizia and kirchmaier 2025 fk studied the imp...</td>\n",
       "      <td>technology</td>\n",
       "      <td>0.551147</td>\n",
       "    </tr>\n",
       "    <tr>\n",
       "      <th>1</th>\n",
       "      <td>Two Americas, one bank branch, and $50k cash</td>\n",
       "      <td>https://www.bitsaboutmoney.com/archive/two-ame...</td>\n",
       "      <td>NaN</td>\n",
       "      <td>NaN</td>\n",
       "      <td>dangrossman</td>\n",
       "      <td>78.0</td>\n",
       "      <td>1741198135</td>\n",
       "      <td>2025-03-05 18:08:55+00:00</td>\n",
       "      <td>story</td>\n",
       "      <td>43270103</td>\n",
       "      <td>NaN</td>\n",
       "      <td>66.0</td>\n",
       "      <td>NaN</td>\n",
       "      <td>NaN</td>\n",
       "      <td>43270103.0</td>\n",
       "      <td>coming from a fan of the blog newsletter and w...</td>\n",
       "      <td>travel &amp; lifestyle</td>\n",
       "      <td>0.843752</td>\n",
       "    </tr>\n",
       "    <tr>\n",
       "      <th>2</th>\n",
       "      <td>We achieve zero-downtime deployment (DB, back ...</td>\n",
       "      <td>https://ivelum.com/blog/zero-downtime-deployment/</td>\n",
       "      <td>NaN</td>\n",
       "      <td>NaN</td>\n",
       "      <td>stebunovd</td>\n",
       "      <td>1.0</td>\n",
       "      <td>1739893609</td>\n",
       "      <td>2025-02-18 15:46:49+00:00</td>\n",
       "      <td>story</td>\n",
       "      <td>43090853</td>\n",
       "      <td>NaN</td>\n",
       "      <td>0.0</td>\n",
       "      <td>NaN</td>\n",
       "      <td>NaN</td>\n",
       "      <td>NaN</td>\n",
       "      <td>we achieve zero downtime deployment db back e...</td>\n",
       "      <td>technology</td>\n",
       "      <td>0.982216</td>\n",
       "    </tr>\n",
       "    <tr>\n",
       "      <th>3</th>\n",
       "      <td>2 Planes Abort Landings as Army Helicopter Fli...</td>\n",
       "      <td>https://www.nytimes.com/2025/05/02/us/politics...</td>\n",
       "      <td>NaN</td>\n",
       "      <td>NaN</td>\n",
       "      <td>bookofjoe</td>\n",
       "      <td>40.0</td>\n",
       "      <td>1746529841</td>\n",
       "      <td>2025-05-06 11:10:41+00:00</td>\n",
       "      <td>story</td>\n",
       "      <td>43903771</td>\n",
       "      <td>NaN</td>\n",
       "      <td>17.0</td>\n",
       "      <td>NaN</td>\n",
       "      <td>NaN</td>\n",
       "      <td>43903771.0</td>\n",
       "      <td>commercial pilot and commentor indicates extre...</td>\n",
       "      <td>entertainment</td>\n",
       "      <td>0.963109</td>\n",
       "    </tr>\n",
       "    <tr>\n",
       "      <th>4</th>\n",
       "      <td>Netflix shares hit record as subscriber growth...</td>\n",
       "      <td>https://www.reuters.com/technology/netflix-sha...</td>\n",
       "      <td>NaN</td>\n",
       "      <td>NaN</td>\n",
       "      <td>testrun</td>\n",
       "      <td>3.0</td>\n",
       "      <td>1737552153</td>\n",
       "      <td>2025-01-22 13:22:33+00:00</td>\n",
       "      <td>story</td>\n",
       "      <td>42792508</td>\n",
       "      <td>NaN</td>\n",
       "      <td>0.0</td>\n",
       "      <td>NaN</td>\n",
       "      <td>NaN</td>\n",
       "      <td>42792508.0</td>\n",
       "      <td>netflix shares hit record as subscriber growt...</td>\n",
       "      <td>entertainment</td>\n",
       "      <td>0.976601</td>\n",
       "    </tr>\n",
       "    <tr>\n",
       "      <th>...</th>\n",
       "      <td>...</td>\n",
       "      <td>...</td>\n",
       "      <td>...</td>\n",
       "      <td>...</td>\n",
       "      <td>...</td>\n",
       "      <td>...</td>\n",
       "      <td>...</td>\n",
       "      <td>...</td>\n",
       "      <td>...</td>\n",
       "      <td>...</td>\n",
       "      <td>...</td>\n",
       "      <td>...</td>\n",
       "      <td>...</td>\n",
       "      <td>...</td>\n",
       "      <td>...</td>\n",
       "      <td>...</td>\n",
       "      <td>...</td>\n",
       "      <td>...</td>\n",
       "    </tr>\n",
       "    <tr>\n",
       "      <th>9995</th>\n",
       "      <td>Systemd ParticleOS</td>\n",
       "      <td>https://github.com/systemd/particleos</td>\n",
       "      <td>NaN</td>\n",
       "      <td>NaN</td>\n",
       "      <td>kblissett</td>\n",
       "      <td>89.0</td>\n",
       "      <td>1744329521</td>\n",
       "      <td>2025-04-10 23:58:41+00:00</td>\n",
       "      <td>story</td>\n",
       "      <td>43649088</td>\n",
       "      <td>NaN</td>\n",
       "      <td>68.0</td>\n",
       "      <td>NaN</td>\n",
       "      <td>NaN</td>\n",
       "      <td>43649088.0</td>\n",
       "      <td>i work in the embedded space i d absolutely lo...</td>\n",
       "      <td>technology</td>\n",
       "      <td>0.812814</td>\n",
       "    </tr>\n",
       "    <tr>\n",
       "      <th>9996</th>\n",
       "      <td>YouTubers Are Selling Their Unused Video Foota...</td>\n",
       "      <td>https://www.bloomberg.com/news/articles/2025-0...</td>\n",
       "      <td>NaN</td>\n",
       "      <td>NaN</td>\n",
       "      <td>phgn</td>\n",
       "      <td>4.0</td>\n",
       "      <td>1736552868</td>\n",
       "      <td>2025-01-10 23:47:48+00:00</td>\n",
       "      <td>story</td>\n",
       "      <td>42661742</td>\n",
       "      <td>NaN</td>\n",
       "      <td>0.0</td>\n",
       "      <td>NaN</td>\n",
       "      <td>NaN</td>\n",
       "      <td>NaN</td>\n",
       "      <td>youtubers are selling their unused video foot...</td>\n",
       "      <td>business</td>\n",
       "      <td>0.959133</td>\n",
       "    </tr>\n",
       "    <tr>\n",
       "      <th>9997</th>\n",
       "      <td>BleepingComputer: Microsoft states creation of...</td>\n",
       "      <td>https://twitter.com/bleepincomputer/status/191...</td>\n",
       "      <td>NaN</td>\n",
       "      <td>NaN</td>\n",
       "      <td>Zarkex01</td>\n",
       "      <td>4.0</td>\n",
       "      <td>1744356604</td>\n",
       "      <td>2025-04-11 07:30:04+00:00</td>\n",
       "      <td>story</td>\n",
       "      <td>43651347</td>\n",
       "      <td>NaN</td>\n",
       "      <td>1.0</td>\n",
       "      <td>NaN</td>\n",
       "      <td>NaN</td>\n",
       "      <td>43651347.0</td>\n",
       "      <td>yes we totally meant to do that anyone who go...</td>\n",
       "      <td>technology</td>\n",
       "      <td>0.896417</td>\n",
       "    </tr>\n",
       "    <tr>\n",
       "      <th>9998</th>\n",
       "      <td>Newscard: Decentralized, Anonymous Pastebin vi...</td>\n",
       "      <td>https://codeberg.org/OCTADE/newscard</td>\n",
       "      <td>NaN</td>\n",
       "      <td>NaN</td>\n",
       "      <td>OCTADE</td>\n",
       "      <td>2.0</td>\n",
       "      <td>1739183575</td>\n",
       "      <td>2025-02-10 10:32:55+00:00</td>\n",
       "      <td>story</td>\n",
       "      <td>42998873</td>\n",
       "      <td>NaN</td>\n",
       "      <td>1.0</td>\n",
       "      <td>NaN</td>\n",
       "      <td>NaN</td>\n",
       "      <td>42998873.0</td>\n",
       "      <td>newscard encrypts a local text file and publis...</td>\n",
       "      <td>technology</td>\n",
       "      <td>0.945435</td>\n",
       "    </tr>\n",
       "    <tr>\n",
       "      <th>9999</th>\n",
       "      <td>Oxford researchers awarded ARIA funding to dev...</td>\n",
       "      <td>https://www.ox.ac.uk/news/2025-04-10-oxford-re...</td>\n",
       "      <td>NaN</td>\n",
       "      <td>NaN</td>\n",
       "      <td>gnabgib</td>\n",
       "      <td>3.0</td>\n",
       "      <td>1744313691</td>\n",
       "      <td>2025-04-10 19:34:51+00:00</td>\n",
       "      <td>story</td>\n",
       "      <td>43647321</td>\n",
       "      <td>NaN</td>\n",
       "      <td>0.0</td>\n",
       "      <td>NaN</td>\n",
       "      <td>NaN</td>\n",
       "      <td>NaN</td>\n",
       "      <td>oxford researchers awarded aria funding to de...</td>\n",
       "      <td>technology</td>\n",
       "      <td>0.925219</td>\n",
       "    </tr>\n",
       "  </tbody>\n",
       "</table>\n",
       "<p>10000 rows × 18 columns</p>\n",
       "</div>"
      ]
     },
     "execution_count": 52,
     "metadata": {},
     "output_type": "execute_result"
    }
   ],
   "execution_count": 52
  },
  {
   "metadata": {},
   "cell_type": "markdown",
   "source": "## High confidence screening",
   "id": "b918e3c2aec66a2"
  },
  {
   "metadata": {
    "ExecuteTime": {
     "end_time": "2025-06-17T21:05:12.520484Z",
     "start_time": "2025-06-17T21:05:12.291475Z"
    }
   },
   "cell_type": "code",
   "source": [
    "df_result = pd.read_csv(\"sample_10000_for_zero_shot.csv\")\n",
    "high_conf_df = df_result[df_result[\"confidence\"] >= 0.7].copy()\n",
    "high_conf_df.to_csv(\"labeled data.csv\", index=False)"
   ],
   "id": "b6cebadd993b00a4",
   "outputs": [],
   "execution_count": 53
  },
  {
   "metadata": {},
   "cell_type": "markdown",
   "source": "## Bar chart of label distribution",
   "id": "f09b0af524df1b7b"
  },
  {
   "metadata": {
    "ExecuteTime": {
     "end_time": "2025-06-17T21:05:14.795725Z",
     "start_time": "2025-06-17T21:05:14.653966Z"
    }
   },
   "cell_type": "code",
   "source": [
    "label_counts = df_result[\"predict\"].value_counts()\n",
    "plt.figure(figsize=(12, 6))\n",
    "label_counts.plot(kind=\"bar\")\n",
    "plt.title(\"label distribution（Top-1 Prediction）\")\n",
    "plt.xlabel(\"Label\")\n",
    "plt.ylabel(\"Count\")\n",
    "plt.xticks(rotation=45, ha=\"right\")\n",
    "plt.grid(axis=\"y\", linestyle=\"--\", alpha=0.6)\n",
    "plt.tight_layout()\n",
    "plt.show()"
   ],
   "id": "17d17e013dd145b0",
   "outputs": [
    {
     "name": "stderr",
     "output_type": "stream",
     "text": [
      "C:\\Users\\seahi\\AppData\\Local\\Temp\\ipykernel_68120\\903491629.py:9: UserWarning: Glyph 65288 (\\N{FULLWIDTH LEFT PARENTHESIS}) missing from font(s) DejaVu Sans.\n",
      "  plt.tight_layout()\n",
      "C:\\Users\\seahi\\AppData\\Local\\Temp\\ipykernel_68120\\903491629.py:9: UserWarning: Glyph 65289 (\\N{FULLWIDTH RIGHT PARENTHESIS}) missing from font(s) DejaVu Sans.\n",
      "  plt.tight_layout()\n",
      "C:\\Users\\seahi\\anaconda3\\Lib\\site-packages\\IPython\\core\\pylabtools.py:170: UserWarning: Glyph 65288 (\\N{FULLWIDTH LEFT PARENTHESIS}) missing from font(s) DejaVu Sans.\n",
      "  fig.canvas.print_figure(bytes_io, **kw)\n",
      "C:\\Users\\seahi\\anaconda3\\Lib\\site-packages\\IPython\\core\\pylabtools.py:170: UserWarning: Glyph 65289 (\\N{FULLWIDTH RIGHT PARENTHESIS}) missing from font(s) DejaVu Sans.\n",
      "  fig.canvas.print_figure(bytes_io, **kw)\n"
     ]
    },
    {
     "data": {
      "text/plain": [
       "<Figure size 1200x600 with 1 Axes>"
      ],
      "image/png": "[encoded data removed]"
     },
     "metadata": {},
     "output_type": "display_data"
    }
   ],
   "execution_count": 54
  },
  {
   "metadata": {},
   "cell_type": "markdown",
   "source": "## Training script",
   "id": "707045e893ba6175"
  },
  {
   "metadata": {
    "ExecuteTime": {
     "end_time": "2025-06-17T21:05:41.070223Z",
     "start_time": "2025-06-17T21:05:41.049088Z"
    }
   },
   "cell_type": "code",
   "source": [
    "import pandas as pd\n",
    "from datasets import Dataset\n",
    "from transformers import AutoTokenizer, AutoModelForSequenceClassification, TrainingArguments, Trainer\n",
    "from sklearn.preprocessing import LabelEncoder"
   ],
   "id": "efd845f3384b49c6",
   "outputs": [],
   "execution_count": 56
  },
  {
   "metadata": {
    "ExecuteTime": {
     "end_time": "2025-06-17T21:06:08.274547Z",
     "start_time": "2025-06-17T21:06:08.178175Z"
    }
   },
   "cell_type": "code",
   "source": [
    "# Load dataset\n",
    "\n",
    "df = pd.read_csv(\"labeled data.csv\")\n",
    "texts = df[\"content\"].tolist()\n",
    "labels = df[\"predict\"].tolist()\n",
    "df"
   ],
   "id": "32cfcae683189562",
   "outputs": [
    {
     "data": {
      "text/plain": [
       "                                                  title  \\\n",
       "0          Two Americas, one bank branch, and $50k cash   \n",
       "1     We achieve zero-downtime deployment (DB, back ...   \n",
       "2     2 Planes Abort Landings as Army Helicopter Fli...   \n",
       "3     Netflix shares hit record as subscriber growth...   \n",
       "4     A woman made her AI voice clone say \"arse.\" Th...   \n",
       "...                                                 ...   \n",
       "6503                                 Systemd ParticleOS   \n",
       "6504  YouTubers Are Selling Their Unused Video Foota...   \n",
       "6505  BleepingComputer: Microsoft states creation of...   \n",
       "6506  Newscard: Decentralized, Anonymous Pastebin vi...   \n",
       "6507  Oxford researchers awarded ARIA funding to dev...   \n",
       "\n",
       "                                                    url text  dead  \\\n",
       "0     https://www.bitsaboutmoney.com/archive/two-ame...  NaN   NaN   \n",
       "1     https://ivelum.com/blog/zero-downtime-deployment/  NaN   NaN   \n",
       "2     https://www.nytimes.com/2025/05/02/us/politics...  NaN   NaN   \n",
       "3     https://www.reuters.com/technology/netflix-sha...  NaN   NaN   \n",
       "4     https://www.technologyreview.com/2025/02/14/11...  NaN   NaN   \n",
       "...                                                 ...  ...   ...   \n",
       "6503              https://github.com/systemd/particleos  NaN   NaN   \n",
       "6504  https://www.bloomberg.com/news/articles/2025-0...  NaN   NaN   \n",
       "6505  https://twitter.com/bleepincomputer/status/191...  NaN   NaN   \n",
       "6506               https://codeberg.org/OCTADE/newscard  NaN   NaN   \n",
       "6507  https://www.ox.ac.uk/news/2025-04-10-oxford-re...  NaN   NaN   \n",
       "\n",
       "               by  score        time                  timestamp   type  \\\n",
       "0     dangrossman   78.0  1741198135  2025-03-05 18:08:55+00:00  story   \n",
       "1       stebunovd    1.0  1739893609  2025-02-18 15:46:49+00:00  story   \n",
       "2       bookofjoe   40.0  1746529841  2025-05-06 11:10:41+00:00  story   \n",
       "3         testrun    3.0  1737552153  2025-01-22 13:22:33+00:00  story   \n",
       "4      impish9208   56.0  1739541670  2025-02-14 14:01:10+00:00  story   \n",
       "...           ...    ...         ...                        ...    ...   \n",
       "6503    kblissett   89.0  1744329521  2025-04-10 23:58:41+00:00  story   \n",
       "6504         phgn    4.0  1736552868  2025-01-10 23:47:48+00:00  story   \n",
       "6505     Zarkex01    4.0  1744356604  2025-04-11 07:30:04+00:00  story   \n",
       "6506       OCTADE    2.0  1739183575  2025-02-10 10:32:55+00:00  story   \n",
       "6507      gnabgib    3.0  1744313691  2025-04-10 19:34:51+00:00  story   \n",
       "\n",
       "            id  parent_x  descendants  ranking  deleted    parent_y  \\\n",
       "0     43270103       NaN         66.0      NaN      NaN  43270103.0   \n",
       "1     43090853       NaN          0.0      NaN      NaN         NaN   \n",
       "2     43903771       NaN         17.0      NaN      NaN  43903771.0   \n",
       "3     42792508       NaN          0.0      NaN      NaN  42792508.0   \n",
       "4     43048345       NaN         64.0      NaN      NaN  43048345.0   \n",
       "...        ...       ...          ...      ...      ...         ...   \n",
       "6503  43649088       NaN         68.0      NaN      NaN  43649088.0   \n",
       "6504  42661742       NaN          0.0      NaN      NaN         NaN   \n",
       "6505  43651347       NaN          1.0      NaN      NaN  43651347.0   \n",
       "6506  42998873       NaN          1.0      NaN      NaN  42998873.0   \n",
       "6507  43647321       NaN          0.0      NaN      NaN         NaN   \n",
       "\n",
       "                                                content             predict  \\\n",
       "0     coming from a fan of the blog newsletter and w...  travel & lifestyle   \n",
       "1      we achieve zero downtime deployment db back e...          technology   \n",
       "2     commercial pilot and commentor indicates extre...       entertainment   \n",
       "3      netflix shares hit record as subscriber growt...       entertainment   \n",
       "4     i find it more disturbing that her private off...          technology   \n",
       "...                                                 ...                 ...   \n",
       "6503  i work in the embedded space i d absolutely lo...          technology   \n",
       "6504   youtubers are selling their unused video foot...            business   \n",
       "6505   yes we totally meant to do that anyone who go...          technology   \n",
       "6506  newscard encrypts a local text file and publis...          technology   \n",
       "6507   oxford researchers awarded aria funding to de...          technology   \n",
       "\n",
       "      confidence  \n",
       "0       0.843752  \n",
       "1       0.982216  \n",
       "2       0.963109  \n",
       "3       0.976601  \n",
       "4       0.763576  \n",
       "...          ...  \n",
       "6503    0.812814  \n",
       "6504    0.959133  \n",
       "6505    0.896417  \n",
       "6506    0.945435  \n",
       "6507    0.925219  \n",
       "\n",
       "[6508 rows x 18 columns]"
      ],
      "text/html": [
       "<div>\n",
       "<style scoped>\n",
       "    .dataframe tbody tr th:only-of-type {\n",
       "        vertical-align: middle;\n",
       "    }\n",
       "\n",
       "    .dataframe tbody tr th {\n",
       "        vertical-align: top;\n",
       "    }\n",
       "\n",
       "    .dataframe thead th {\n",
       "        text-align: right;\n",
       "    }\n",
       "</style>\n",
       "<table border=\"1\" class=\"dataframe\">\n",
       "  <thead>\n",
       "    <tr style=\"text-align: right;\">\n",
       "      <th></th>\n",
       "      <th>title</th>\n",
       "      <th>url</th>\n",
       "      <th>text</th>\n",
       "      <th>dead</th>\n",
       "      <th>by</th>\n",
       "      <th>score</th>\n",
       "      <th>time</th>\n",
       "      <th>timestamp</th>\n",
       "      <th>type</th>\n",
       "      <th>id</th>\n",
       "      <th>parent_x</th>\n",
       "      <th>descendants</th>\n",
       "      <th>ranking</th>\n",
       "      <th>deleted</th>\n",
       "      <th>parent_y</th>\n",
       "      <th>content</th>\n",
       "      <th>predict</th>\n",
       "      <th>confidence</th>\n",
       "    </tr>\n",
       "  </thead>\n",
       "  <tbody>\n",
       "    <tr>\n",
       "      <th>0</th>\n",
       "      <td>Two Americas, one bank branch, and $50k cash</td>\n",
       "      <td>https://www.bitsaboutmoney.com/archive/two-ame...</td>\n",
       "      <td>NaN</td>\n",
       "      <td>NaN</td>\n",
       "      <td>dangrossman</td>\n",
       "      <td>78.0</td>\n",
       "      <td>1741198135</td>\n",
       "      <td>2025-03-05 18:08:55+00:00</td>\n",
       "      <td>story</td>\n",
       "      <td>43270103</td>\n",
       "      <td>NaN</td>\n",
       "      <td>66.0</td>\n",
       "      <td>NaN</td>\n",
       "      <td>NaN</td>\n",
       "      <td>43270103.0</td>\n",
       "      <td>coming from a fan of the blog newsletter and w...</td>\n",
       "      <td>travel &amp; lifestyle</td>\n",
       "      <td>0.843752</td>\n",
       "    </tr>\n",
       "    <tr>\n",
       "      <th>1</th>\n",
       "      <td>We achieve zero-downtime deployment (DB, back ...</td>\n",
       "      <td>https://ivelum.com/blog/zero-downtime-deployment/</td>\n",
       "      <td>NaN</td>\n",
       "      <td>NaN</td>\n",
       "      <td>stebunovd</td>\n",
       "      <td>1.0</td>\n",
       "      <td>1739893609</td>\n",
       "      <td>2025-02-18 15:46:49+00:00</td>\n",
       "      <td>story</td>\n",
       "      <td>43090853</td>\n",
       "      <td>NaN</td>\n",
       "      <td>0.0</td>\n",
       "      <td>NaN</td>\n",
       "      <td>NaN</td>\n",
       "      <td>NaN</td>\n",
       "      <td>we achieve zero downtime deployment db back e...</td>\n",
       "      <td>technology</td>\n",
       "      <td>0.982216</td>\n",
       "    </tr>\n",
       "    <tr>\n",
       "      <th>2</th>\n",
       "      <td>2 Planes Abort Landings as Army Helicopter Fli...</td>\n",
       "      <td>https://www.nytimes.com/2025/05/02/us/politics...</td>\n",
       "      <td>NaN</td>\n",
       "      <td>NaN</td>\n",
       "      <td>bookofjoe</td>\n",
       "      <td>40.0</td>\n",
       "      <td>1746529841</td>\n",
       "      <td>2025-05-06 11:10:41+00:00</td>\n",
       "      <td>story</td>\n",
       "      <td>43903771</td>\n",
       "      <td>NaN</td>\n",
       "      <td>17.0</td>\n",
       "      <td>NaN</td>\n",
       "      <td>NaN</td>\n",
       "      <td>43903771.0</td>\n",
       "      <td>commercial pilot and commentor indicates extre...</td>\n",
       "      <td>entertainment</td>\n",
       "      <td>0.963109</td>\n",
       "    </tr>\n",
       "    <tr>\n",
       "      <th>3</th>\n",
       "      <td>Netflix shares hit record as subscriber growth...</td>\n",
       "      <td>https://www.reuters.com/technology/netflix-sha...</td>\n",
       "      <td>NaN</td>\n",
       "      <td>NaN</td>\n",
       "      <td>testrun</td>\n",
       "      <td>3.0</td>\n",
       "      <td>1737552153</td>\n",
       "      <td>2025-01-22 13:22:33+00:00</td>\n",
       "      <td>story</td>\n",
       "      <td>42792508</td>\n",
       "      <td>NaN</td>\n",
       "      <td>0.0</td>\n",
       "      <td>NaN</td>\n",
       "      <td>NaN</td>\n",
       "      <td>42792508.0</td>\n",
       "      <td>netflix shares hit record as subscriber growt...</td>\n",
       "      <td>entertainment</td>\n",
       "      <td>0.976601</td>\n",
       "    </tr>\n",
       "    <tr>\n",
       "      <th>4</th>\n",
       "      <td>A woman made her AI voice clone say \"arse.\" Th...</td>\n",
       "      <td>https://www.technologyreview.com/2025/02/14/11...</td>\n",
       "      <td>NaN</td>\n",
       "      <td>NaN</td>\n",
       "      <td>impish9208</td>\n",
       "      <td>56.0</td>\n",
       "      <td>1739541670</td>\n",
       "      <td>2025-02-14 14:01:10+00:00</td>\n",
       "      <td>story</td>\n",
       "      <td>43048345</td>\n",
       "      <td>NaN</td>\n",
       "      <td>64.0</td>\n",
       "      <td>NaN</td>\n",
       "      <td>NaN</td>\n",
       "      <td>43048345.0</td>\n",
       "      <td>i find it more disturbing that her private off...</td>\n",
       "      <td>technology</td>\n",
       "      <td>0.763576</td>\n",
       "    </tr>\n",
       "    <tr>\n",
       "      <th>...</th>\n",
       "      <td>...</td>\n",
       "      <td>...</td>\n",
       "      <td>...</td>\n",
       "      <td>...</td>\n",
       "      <td>...</td>\n",
       "      <td>...</td>\n",
       "      <td>...</td>\n",
       "      <td>...</td>\n",
       "      <td>...</td>\n",
       "      <td>...</td>\n",
       "      <td>...</td>\n",
       "      <td>...</td>\n",
       "      <td>...</td>\n",
       "      <td>...</td>\n",
       "      <td>...</td>\n",
       "      <td>...</td>\n",
       "      <td>...</td>\n",
       "      <td>...</td>\n",
       "    </tr>\n",
       "    <tr>\n",
       "      <th>6503</th>\n",
       "      <td>Systemd ParticleOS</td>\n",
       "      <td>https://github.com/systemd/particleos</td>\n",
       "      <td>NaN</td>\n",
       "      <td>NaN</td>\n",
       "      <td>kblissett</td>\n",
       "      <td>89.0</td>\n",
       "      <td>1744329521</td>\n",
       "      <td>2025-04-10 23:58:41+00:00</td>\n",
       "      <td>story</td>\n",
       "      <td>43649088</td>\n",
       "      <td>NaN</td>\n",
       "      <td>68.0</td>\n",
       "      <td>NaN</td>\n",
       "      <td>NaN</td>\n",
       "      <td>43649088.0</td>\n",
       "      <td>i work in the embedded space i d absolutely lo...</td>\n",
       "      <td>technology</td>\n",
       "      <td>0.812814</td>\n",
       "    </tr>\n",
       "    <tr>\n",
       "      <th>6504</th>\n",
       "      <td>YouTubers Are Selling Their Unused Video Foota...</td>\n",
       "      <td>https://www.bloomberg.com/news/articles/2025-0...</td>\n",
       "      <td>NaN</td>\n",
       "      <td>NaN</td>\n",
       "      <td>phgn</td>\n",
       "      <td>4.0</td>\n",
       "      <td>1736552868</td>\n",
       "      <td>2025-01-10 23:47:48+00:00</td>\n",
       "      <td>story</td>\n",
       "      <td>42661742</td>\n",
       "      <td>NaN</td>\n",
       "      <td>0.0</td>\n",
       "      <td>NaN</td>\n",
       "      <td>NaN</td>\n",
       "      <td>NaN</td>\n",
       "      <td>youtubers are selling their unused video foot...</td>\n",
       "      <td>business</td>\n",
       "      <td>0.959133</td>\n",
       "    </tr>\n",
       "    <tr>\n",
       "      <th>6505</th>\n",
       "      <td>BleepingComputer: Microsoft states creation of...</td>\n",
       "      <td>https://twitter.com/bleepincomputer/status/191...</td>\n",
       "      <td>NaN</td>\n",
       "      <td>NaN</td>\n",
       "      <td>Zarkex01</td>\n",
       "      <td>4.0</td>\n",
       "      <td>1744356604</td>\n",
       "      <td>2025-04-11 07:30:04+00:00</td>\n",
       "      <td>story</td>\n",
       "      <td>43651347</td>\n",
       "      <td>NaN</td>\n",
       "      <td>1.0</td>\n",
       "      <td>NaN</td>\n",
       "      <td>NaN</td>\n",
       "      <td>43651347.0</td>\n",
       "      <td>yes we totally meant to do that anyone who go...</td>\n",
       "      <td>technology</td>\n",
       "      <td>0.896417</td>\n",
       "    </tr>\n",
       "    <tr>\n",
       "      <th>6506</th>\n",
       "      <td>Newscard: Decentralized, Anonymous Pastebin vi...</td>\n",
       "      <td>https://codeberg.org/OCTADE/newscard</td>\n",
       "      <td>NaN</td>\n",
       "      <td>NaN</td>\n",
       "      <td>OCTADE</td>\n",
       "      <td>2.0</td>\n",
       "      <td>1739183575</td>\n",
       "      <td>2025-02-10 10:32:55+00:00</td>\n",
       "      <td>story</td>\n",
       "      <td>42998873</td>\n",
       "      <td>NaN</td>\n",
       "      <td>1.0</td>\n",
       "      <td>NaN</td>\n",
       "      <td>NaN</td>\n",
       "      <td>42998873.0</td>\n",
       "      <td>newscard encrypts a local text file and publis...</td>\n",
       "      <td>technology</td>\n",
       "      <td>0.945435</td>\n",
       "    </tr>\n",
       "    <tr>\n",
       "      <th>6507</th>\n",
       "      <td>Oxford researchers awarded ARIA funding to dev...</td>\n",
       "      <td>https://www.ox.ac.uk/news/2025-04-10-oxford-re...</td>\n",
       "      <td>NaN</td>\n",
       "      <td>NaN</td>\n",
       "      <td>gnabgib</td>\n",
       "      <td>3.0</td>\n",
       "      <td>1744313691</td>\n",
       "      <td>2025-04-10 19:34:51+00:00</td>\n",
       "      <td>story</td>\n",
       "      <td>43647321</td>\n",
       "      <td>NaN</td>\n",
       "      <td>0.0</td>\n",
       "      <td>NaN</td>\n",
       "      <td>NaN</td>\n",
       "      <td>NaN</td>\n",
       "      <td>oxford researchers awarded aria funding to de...</td>\n",
       "      <td>technology</td>\n",
       "      <td>0.925219</td>\n",
       "    </tr>\n",
       "  </tbody>\n",
       "</table>\n",
       "<p>6508 rows × 18 columns</p>\n",
       "</div>"
      ]
     },
     "execution_count": 59,
     "metadata": {},
     "output_type": "execute_result"
    }
   ],
   "execution_count": 59
  },
  {
   "metadata": {
    "ExecuteTime": {
     "end_time": "2025-06-17T21:12:10.494682Z",
     "start_time": "2025-06-17T21:12:10.489974Z"
    }
   },
   "cell_type": "code",
   "source": [
    "# Label encoding\n",
    "\n",
    "label_encoder = LabelEncoder()\n",
    "df[\"label_id\"] = label_encoder.fit_transform(df[\"predict\"])\n",
    "label2id = {label: idx for idx, label in enumerate(label_encoder.classes_)}\n",
    "id2label = {idx: label for label, idx in label2id.items()}"
   ],
   "id": "f686791b7deb4bb4",
   "outputs": [],
   "execution_count": 62
  },
  {
   "metadata": {
    "ExecuteTime": {
     "end_time": "2025-06-17T21:12:17.198037Z",
     "start_time": "2025-06-17T21:12:17.168516Z"
    }
   },
   "cell_type": "code",
   "source": [
    "# Convert to HF dataset\n",
    "\n",
    "dataset = Dataset.from_pandas(df[[\"content\", \"label_id\"]])\n",
    "dataset = dataset.rename_column(\"label_id\", \"labels\")\n",
    "dataset = dataset.train_test_split(test_size=0.1)"
   ],
   "id": "ea733f526db5ef42",
   "outputs": [],
   "execution_count": 63
  },
  {
   "metadata": {
    "ExecuteTime": {
     "end_time": "2025-06-17T21:12:18.096309Z",
     "start_time": "2025-06-17T21:12:17.649056Z"
    }
   },
   "cell_type": "code",
   "source": [
    "# Tokenizer\n",
    "\n",
    "tokenizer = AutoTokenizer.from_pretrained(\"distilbert-base-uncased\")"
   ],
   "id": "2f8682210de4cdfc",
   "outputs": [],
   "execution_count": 64
  },
  {
   "metadata": {
    "ExecuteTime": {
     "end_time": "2025-06-17T21:12:24.304440Z",
     "start_time": "2025-06-17T21:12:21.485123Z"
    }
   },
   "cell_type": "code",
   "source": [
    "def tokenize(example):\n",
    "    return tokenizer(example[\"content\"], truncation=True, padding=\"max_length\", max_length=256)\n",
    "\n",
    "encoded = dataset.map(tokenize, batched=True)"
   ],
   "id": "3be5d81bd08496a1",
   "outputs": [
    {
     "data": {
      "text/plain": [
       "Map:   0%|          | 0/5857 [00:00<?, ? examples/s]"
      ],
      "application/vnd.jupyter.widget-view+json": {
       "version_major": 2,
       "version_minor": 0,
       "model_id": "25def39cdcd243989d5c1289ddf8cbb5"
      }
     },
     "metadata": {},
     "output_type": "display_data"
    },
    {
     "data": {
      "text/plain": [
       "Map:   0%|          | 0/651 [00:00<?, ? examples/s]"
      ],
      "application/vnd.jupyter.widget-view+json": {
       "version_major": 2,
       "version_minor": 0,
       "model_id": "d7a2db0fb85b45fba773462fc416fe7d"
      }
     },
     "metadata": {},
     "output_type": "display_data"
    }
   ],
   "execution_count": 65
  },
  {
   "metadata": {
    "ExecuteTime": {
     "end_time": "2025-06-17T21:12:56.514399Z",
     "start_time": "2025-06-17T21:12:56.362803Z"
    }
   },
   "cell_type": "code",
   "source": [
    "# Model initialization\n",
    "\n",
    "model = AutoModelForSequenceClassification.from_pretrained(\n",
    "    \"distilbert-base-uncased\",\n",
    "    num_labels=len(label2id),\n",
    "    id2label=id2label,\n",
    "    label2id=label2id\n",
    ")"
   ],
   "id": "e1391ce0527e5f50",
   "outputs": [
    {
     "name": "stderr",
     "output_type": "stream",
     "text": [
      "Some weights of DistilBertForSequenceClassification were not initialized from the model checkpoint at distilbert-base-uncased and are newly initialized: ['classifier.bias', 'classifier.weight', 'pre_classifier.bias', 'pre_classifier.weight']\n",
      "You should probably TRAIN this model on a down-stream task to be able to use it for predictions and inference.\n"
     ]
    }
   ],
   "execution_count": 67
  },
  {
   "metadata": {
    "ExecuteTime": {
     "end_time": "2025-06-17T21:12:57.687091Z",
     "start_time": "2025-06-17T21:12:57.629120Z"
    }
   },
   "cell_type": "code",
   "source": [
    "# Training parameters\n",
    "\n",
    "training_args = TrainingArguments(\n",
    "    output_dir=\"./distilbert_model\",\n",
    "    eval_strategy=\"epoch\",\n",
    "    save_strategy=\"epoch\",\n",
    "    num_train_epochs=3,\n",
    "    per_device_train_batch_size=16,\n",
    "    per_device_eval_batch_size=16,\n",
    "    load_best_model_at_end=True,\n",
    "    logging_dir=\"./logs\",\n",
    ")"
   ],
   "id": "e8ac989f027d1e97",
   "outputs": [],
   "execution_count": 68
  },
  {
   "metadata": {
    "ExecuteTime": {
     "end_time": "2025-06-17T21:17:24.856181Z",
     "start_time": "2025-06-17T21:17:24.852750Z"
    }
   },
   "cell_type": "code",
   "source": [
    "# Evaluation metrics\n",
    "def compute_metrics(eval_pred):\n",
    "    preds = np.argmax(eval_pred.predictions, axis=1)\n",
    "    labels = eval_pred.label_ids\n",
    "    acc = accuracy_score(labels, preds)\n",
    "    f1 = f1_score(labels, preds, average=\"weighted\")\n",
    "    return {\"accuracy\": acc, \"f1\": f1}"
   ],
   "id": "b1ecfdf98fe132c7",
   "outputs": [],
   "execution_count": 74
  },
  {
   "metadata": {
    "ExecuteTime": {
     "end_time": "2025-06-17T21:28:02.788566Z",
     "start_time": "2025-06-17T21:28:02.779507Z"
    }
   },
   "cell_type": "code",
   "source": [
    "# Trainer\n",
    "\n",
    "trainer = Trainer(\n",
    "    model=model,\n",
    "    args=training_args,\n",
    "    train_dataset=encoded[\"train\"],\n",
    "    eval_dataset=encoded[\"test\"],\n",
    "    tokenizer=tokenizer,\n",
    "    compute_metrics=compute_metrics\n",
    ")\n"
   ],
   "id": "224ea65ea96ab5f0",
   "outputs": [
    {
     "name": "stderr",
     "output_type": "stream",
     "text": [
      "C:\\Users\\seahi\\AppData\\Local\\Temp\\ipykernel_68120\\1439820011.py:3: FutureWarning: `tokenizer` is deprecated and will be removed in version 5.0.0 for `Trainer.__init__`. Use `processing_class` instead.\n",
      "  trainer = Trainer(\n"
     ]
    }
   ],
   "execution_count": 90
  },
  {
   "metadata": {
    "ExecuteTime": {
     "end_time": "2025-06-17T21:18:46.962606Z",
     "start_time": "2025-06-17T21:17:28.520703Z"
    }
   },
   "cell_type": "code",
   "source": "trainer.train()",
   "id": "fc185736dabd7eb0",
   "outputs": [
    {
     "data": {
      "text/plain": [
       "<IPython.core.display.HTML object>"
      ],
      "text/html": [
       "\n",
       "    <div>\n",
       "      \n",
       "      <progress value='1101' max='1101' style='width:300px; height:20px; vertical-align: middle;'></progress>\n",
       "      [1101/1101 01:17, Epoch 3/3]\n",
       "    </div>\n",
       "    <table border=\"1\" class=\"dataframe\">\n",
       "  <thead>\n",
       " <tr style=\"text-align: left;\">\n",
       "      <th>Epoch</th>\n",
       "      <th>Training Loss</th>\n",
       "      <th>Validation Loss</th>\n",
       "      <th>Accuracy</th>\n",
       "      <th>F1</th>\n",
       "    </tr>\n",
       "  </thead>\n",
       "  <tbody>\n",
       "    <tr>\n",
       "      <td>1</td>\n",
       "      <td>No log</td>\n",
       "      <td>1.127641</td>\n",
       "      <td>0.683564</td>\n",
       "      <td>0.688648</td>\n",
       "    </tr>\n",
       "    <tr>\n",
       "      <td>2</td>\n",
       "      <td>0.415500</td>\n",
       "      <td>1.211805</td>\n",
       "      <td>0.714286</td>\n",
       "      <td>0.698793</td>\n",
       "    </tr>\n",
       "    <tr>\n",
       "      <td>3</td>\n",
       "      <td>0.180600</td>\n",
       "      <td>1.328609</td>\n",
       "      <td>0.705069</td>\n",
       "      <td>0.697745</td>\n",
       "    </tr>\n",
       "  </tbody>\n",
       "</table><p>"
      ]
     },
     "metadata": {},
     "output_type": "display_data"
    },
    {
     "data": {
      "text/plain": [
       "TrainOutput(global_step=1101, training_loss=0.280964513565604, metrics={'train_runtime': 78.1319, 'train_samples_per_second': 224.889, 'train_steps_per_second': 14.092, 'total_flos': 1164041385901056.0, 'train_loss': 0.280964513565604, 'epoch': 3.0})"
      ]
     },
     "execution_count": 76,
     "metadata": {},
     "output_type": "execute_result"
    }
   ],
   "execution_count": 76
  },
  {
   "metadata": {
    "ExecuteTime": {
     "end_time": "2025-06-17T21:18:55.781407Z",
     "start_time": "2025-06-17T21:18:54.622412Z"
    }
   },
   "cell_type": "code",
   "source": [
    "#  Evaluate on test set\n",
    "metrics = trainer.evaluate()\n",
    "print(\"Evaluation on test set:\")\n",
    "print(metrics)"
   ],
   "id": "873824b387337340",
   "outputs": [
    {
     "data": {
      "text/plain": [
       "<IPython.core.display.HTML object>"
      ],
      "text/html": [
       "\n",
       "    <div>\n",
       "      \n",
       "      <progress value='41' max='41' style='width:300px; height:20px; vertical-align: middle;'></progress>\n",
       "      [41/41 00:00]\n",
       "    </div>\n",
       "    "
      ]
     },
     "metadata": {},
     "output_type": "display_data"
    },
    {
     "name": "stdout",
     "output_type": "stream",
     "text": [
      "Evaluation on test set:\n",
      "{'eval_loss': 1.1276413202285767, 'eval_accuracy': 0.6835637480798771, 'eval_f1': 0.6886475128626888, 'eval_runtime': 1.1532, 'eval_samples_per_second': 564.507, 'eval_steps_per_second': 35.553, 'epoch': 3.0}\n"
     ]
    }
   ],
   "execution_count": 77
  },
  {
   "metadata": {
    "ExecuteTime": {
     "end_time": "2025-06-17T21:19:23.604441Z",
     "start_time": "2025-06-17T21:19:23.317513Z"
    }
   },
   "cell_type": "code",
   "source": [
    "# Save model and label mapping\n",
    "\n",
    "trainer.save_model(\"distilbert_model\")\n",
    "tokenizer.save_pretrained(\"distilbert_model\")\n",
    "with open(\"distilbert_model/label2id.json\", \"w\") as f:\n",
    "    json.dump(label2id, f)\n"
   ],
   "id": "80b42630c42fc9f",
   "outputs": [],
   "execution_count": 78
  },
  {
   "metadata": {},
   "cell_type": "markdown",
   "source": "## bert-base-uncased",
   "id": "c6338feeae4acc15"
  },
  {
   "metadata": {
    "ExecuteTime": {
     "end_time": "2025-06-17T21:23:29.142013Z",
     "start_time": "2025-06-17T21:23:29.053522Z"
    }
   },
   "cell_type": "code",
   "source": "df = pd.read_csv(\"labeled data.csv\")",
   "id": "9f37db6bf9802d8c",
   "outputs": [],
   "execution_count": 79
  },
  {
   "metadata": {
    "ExecuteTime": {
     "end_time": "2025-06-17T21:23:29.784596Z",
     "start_time": "2025-06-17T21:23:29.779935Z"
    }
   },
   "cell_type": "code",
   "source": [
    "label_encoder = LabelEncoder()\n",
    "df[\"label_id\"] = label_encoder.fit_transform(df[\"predict\"])\n",
    "label2id = {label: idx for idx, label in enumerate(label_encoder.classes_)}\n",
    "id2label = {idx: label for label, idx in label2id.items()}"
   ],
   "id": "9b9649dcc2fa0384",
   "outputs": [],
   "execution_count": 80
  },
  {
   "metadata": {
    "ExecuteTime": {
     "end_time": "2025-06-17T21:23:34.551766Z",
     "start_time": "2025-06-17T21:23:34.524029Z"
    }
   },
   "cell_type": "code",
   "source": [
    "dataset = Dataset.from_pandas(df[[\"content\", \"label_id\"]])\n",
    "dataset = dataset.rename_column(\"label_id\", \"labels\")\n",
    "dataset = dataset.train_test_split(test_size=0.1)"
   ],
   "id": "f4665b9d3a15c3c7",
   "outputs": [],
   "execution_count": 81
  },
  {
   "metadata": {
    "ExecuteTime": {
     "end_time": "2025-06-17T21:23:49.996520Z",
     "start_time": "2025-06-17T21:23:47.627061Z"
    }
   },
   "cell_type": "code",
   "source": "tokenizer = AutoTokenizer.from_pretrained(\"bert-base-uncased\")",
   "id": "c0d5e6e7d2266ca6",
   "outputs": [
    {
     "data": {
      "text/plain": [
       "tokenizer_config.json:   0%|          | 0.00/48.0 [00:00<?, ?B/s]"
      ],
      "application/vnd.jupyter.widget-view+json": {
       "version_major": 2,
       "version_minor": 0,
       "model_id": "dbe32c0970e84df98fe8a062b8e5b602"
      }
     },
     "metadata": {},
     "output_type": "display_data"
    },
    {
     "name": "stderr",
     "output_type": "stream",
     "text": [
      "C:\\Users\\seahi\\anaconda3\\Lib\\site-packages\\huggingface_hub\\file_download.py:143: UserWarning: `huggingface_hub` cache-system uses symlinks by default to efficiently store duplicated files but your machine does not support them in C:\\Users\\seahi\\.cache\\huggingface\\hub\\models--bert-base-uncased. Caching files will still work but in a degraded version that might require more space on your disk. This warning can be disabled by setting the `HF_HUB_DISABLE_SYMLINKS_WARNING` environment variable. For more details, see https://huggingface.co/docs/huggingface_hub/how-to-cache#limitations.\n",
      "To support symlinks on Windows, you either need to activate Developer Mode or to run Python as an administrator. In order to activate developer mode, see this article: https://docs.microsoft.com/en-us/windows/apps/get-started/enable-your-device-for-development\n",
      "  warnings.warn(message)\n"
     ]
    },
    {
     "data": {
      "text/plain": [
       "config.json:   0%|          | 0.00/570 [00:00<?, ?B/s]"
      ],
      "application/vnd.jupyter.widget-view+json": {
       "version_major": 2,
       "version_minor": 0,
       "model_id": "c28530839c144a268654cce922efc8c5"
      }
     },
     "metadata": {},
     "output_type": "display_data"
    },
    {
     "data": {
      "text/plain": [
       "vocab.txt:   0%|          | 0.00/232k [00:00<?, ?B/s]"
      ],
      "application/vnd.jupyter.widget-view+json": {
       "version_major": 2,
       "version_minor": 0,
       "model_id": "14bce84f901d4dcea52b391a8823b19a"
      }
     },
     "metadata": {},
     "output_type": "display_data"
    },
    {
     "data": {
      "text/plain": [
       "tokenizer.json:   0%|          | 0.00/466k [00:00<?, ?B/s]"
      ],
      "application/vnd.jupyter.widget-view+json": {
       "version_major": 2,
       "version_minor": 0,
       "model_id": "23034dfab44b4cebbb94ea6c4f0f6278"
      }
     },
     "metadata": {},
     "output_type": "display_data"
    }
   ],
   "execution_count": 82
  },
  {
   "metadata": {
    "ExecuteTime": {
     "end_time": "2025-06-17T21:23:54.325455Z",
     "start_time": "2025-06-17T21:23:51.111084Z"
    }
   },
   "cell_type": "code",
   "source": [
    "def tokenize(example):\n",
    "    return tokenizer(example[\"content\"], truncation=True, padding=\"max_length\", max_length=256)\n",
    "\n",
    "encoded = dataset.map(tokenize, batched=True)"
   ],
   "id": "de3ac5fbb8e8e01a",
   "outputs": [
    {
     "data": {
      "text/plain": [
       "Map:   0%|          | 0/5857 [00:00<?, ? examples/s]"
      ],
      "application/vnd.jupyter.widget-view+json": {
       "version_major": 2,
       "version_minor": 0,
       "model_id": "012a632085c24c26bb4fe245b906bc89"
      }
     },
     "metadata": {},
     "output_type": "display_data"
    },
    {
     "data": {
      "text/plain": [
       "Map:   0%|          | 0/651 [00:00<?, ? examples/s]"
      ],
      "application/vnd.jupyter.widget-view+json": {
       "version_major": 2,
       "version_minor": 0,
       "model_id": "d49116e70fc544b582c3122594d7148d"
      }
     },
     "metadata": {},
     "output_type": "display_data"
    }
   ],
   "execution_count": 83
  },
  {
   "metadata": {
    "ExecuteTime": {
     "end_time": "2025-06-17T21:24:20.533235Z",
     "start_time": "2025-06-17T21:23:56.936692Z"
    }
   },
   "cell_type": "code",
   "source": [
    "model = AutoModelForSequenceClassification.from_pretrained(\n",
    "    \"bert-base-uncased\",\n",
    "    num_labels=len(label2id),\n",
    "    id2label=id2label,\n",
    "    label2id=label2id\n",
    ")"
   ],
   "id": "1e109ae5170332e7",
   "outputs": [
    {
     "name": "stderr",
     "output_type": "stream",
     "text": [
      "Xet Storage is enabled for this repo, but the 'hf_xet' package is not installed. Falling back to regular HTTP download. For better performance, install the package with: `pip install huggingface_hub[hf_xet]` or `pip install hf_xet`\n"
     ]
    },
    {
     "data": {
      "text/plain": [
       "model.safetensors:   0%|          | 0.00/440M [00:00<?, ?B/s]"
      ],
      "application/vnd.jupyter.widget-view+json": {
       "version_major": 2,
       "version_minor": 0,
       "model_id": "1d1104f315524cc2bfecf2254b2440e1"
      }
     },
     "metadata": {},
     "output_type": "display_data"
    },
    {
     "name": "stderr",
     "output_type": "stream",
     "text": [
      "Some weights of BertForSequenceClassification were not initialized from the model checkpoint at bert-base-uncased and are newly initialized: ['classifier.bias', 'classifier.weight']\n",
      "You should probably TRAIN this model on a down-stream task to be able to use it for predictions and inference.\n"
     ]
    }
   ],
   "execution_count": 84
  },
  {
   "metadata": {
    "ExecuteTime": {
     "end_time": "2025-06-17T21:24:23.448792Z",
     "start_time": "2025-06-17T21:24:23.444414Z"
    }
   },
   "cell_type": "code",
   "source": [
    "def compute_metrics(eval_pred):\n",
    "    preds = np.argmax(eval_pred.predictions, axis=1)\n",
    "    labels = eval_pred.label_ids\n",
    "    acc = accuracy_score(labels, preds)\n",
    "    f1 = f1_score(labels, preds, average=\"weighted\")\n",
    "    return {\"accuracy\": acc, \"f1\": f1}"
   ],
   "id": "a27c8c364c60e76d",
   "outputs": [],
   "execution_count": 85
  },
  {
   "metadata": {
    "ExecuteTime": {
     "end_time": "2025-06-17T21:24:45.566282Z",
     "start_time": "2025-06-17T21:24:45.508841Z"
    }
   },
   "cell_type": "code",
   "source": [
    "training_args = TrainingArguments(\n",
    "    output_dir=\"./bert_model\",\n",
    "    eval_strategy=\"epoch\",\n",
    "    save_strategy=\"epoch\",\n",
    "    num_train_epochs=3,\n",
    "    per_device_train_batch_size=16,\n",
    "    per_device_eval_batch_size=16,\n",
    "    load_best_model_at_end=True,\n",
    "    logging_dir=\"./logs\"\n",
    ")"
   ],
   "id": "3426fa218afa3f33",
   "outputs": [],
   "execution_count": 87
  },
  {
   "metadata": {
    "ExecuteTime": {
     "end_time": "2025-06-17T21:24:51.251282Z",
     "start_time": "2025-06-17T21:24:50.899893Z"
    }
   },
   "cell_type": "code",
   "source": [
    "trainer = Trainer(\n",
    "    model=model,\n",
    "    args=training_args,\n",
    "    train_dataset=encoded[\"train\"],\n",
    "    eval_dataset=encoded[\"test\"],\n",
    "    tokenizer=tokenizer,\n",
    "    compute_metrics=compute_metrics\n",
    ")"
   ],
   "id": "a1505e9a7134832a",
   "outputs": [
    {
     "name": "stderr",
     "output_type": "stream",
     "text": [
      "C:\\Users\\seahi\\AppData\\Local\\Temp\\ipykernel_68120\\3368153831.py:1: FutureWarning: `tokenizer` is deprecated and will be removed in version 5.0.0 for `Trainer.__init__`. Use `processing_class` instead.\n",
      "  trainer = Trainer(\n"
     ]
    }
   ],
   "execution_count": 88
  },
  {
   "metadata": {
    "ExecuteTime": {
     "end_time": "2025-06-17T21:27:27.024436Z",
     "start_time": "2025-06-17T21:24:54.383140Z"
    }
   },
   "cell_type": "code",
   "source": "trainer.train()",
   "id": "13dfbf04e8a4ed01",
   "outputs": [
    {
     "data": {
      "text/plain": [
       "<IPython.core.display.HTML object>"
      ],
      "text/html": [
       "\n",
       "    <div>\n",
       "      \n",
       "      <progress value='1101' max='1101' style='width:300px; height:20px; vertical-align: middle;'></progress>\n",
       "      [1101/1101 02:31, Epoch 3/3]\n",
       "    </div>\n",
       "    <table border=\"1\" class=\"dataframe\">\n",
       "  <thead>\n",
       " <tr style=\"text-align: left;\">\n",
       "      <th>Epoch</th>\n",
       "      <th>Training Loss</th>\n",
       "      <th>Validation Loss</th>\n",
       "      <th>Accuracy</th>\n",
       "      <th>F1</th>\n",
       "    </tr>\n",
       "  </thead>\n",
       "  <tbody>\n",
       "    <tr>\n",
       "      <td>1</td>\n",
       "      <td>No log</td>\n",
       "      <td>1.019319</td>\n",
       "      <td>0.666667</td>\n",
       "      <td>0.638829</td>\n",
       "    </tr>\n",
       "    <tr>\n",
       "      <td>2</td>\n",
       "      <td>1.083900</td>\n",
       "      <td>0.941003</td>\n",
       "      <td>0.709677</td>\n",
       "      <td>0.691614</td>\n",
       "    </tr>\n",
       "    <tr>\n",
       "      <td>3</td>\n",
       "      <td>0.516100</td>\n",
       "      <td>1.010656</td>\n",
       "      <td>0.698925</td>\n",
       "      <td>0.683083</td>\n",
       "    </tr>\n",
       "  </tbody>\n",
       "</table><p>"
      ]
     },
     "metadata": {},
     "output_type": "display_data"
    },
    {
     "data": {
      "text/plain": [
       "TrainOutput(global_step=1101, training_loss=0.7604701763710902, metrics={'train_runtime': 152.3213, 'train_samples_per_second': 115.355, 'train_steps_per_second': 7.228, 'total_flos': 2311811231874048.0, 'train_loss': 0.7604701763710902, 'epoch': 3.0})"
      ]
     },
     "execution_count": 89,
     "metadata": {},
     "output_type": "execute_result"
    }
   ],
   "execution_count": 89
  },
  {
   "metadata": {
    "ExecuteTime": {
     "end_time": "2025-06-17T21:28:07.008459Z",
     "start_time": "2025-06-17T21:28:05.099598Z"
    }
   },
   "cell_type": "code",
   "source": [
    "metrics = trainer.evaluate()\n",
    "print(\"Evaluation on test set:\")\n",
    "print(metrics)"
   ],
   "id": "84080ad0d24c8cab",
   "outputs": [
    {
     "data": {
      "text/plain": [
       "<IPython.core.display.HTML object>"
      ],
      "text/html": [
       "\n",
       "    <div>\n",
       "      \n",
       "      <progress value='41' max='41' style='width:300px; height:20px; vertical-align: middle;'></progress>\n",
       "      [41/41 00:01]\n",
       "    </div>\n",
       "    "
      ]
     },
     "metadata": {},
     "output_type": "display_data"
    },
    {
     "name": "stdout",
     "output_type": "stream",
     "text": [
      "📊 Evaluation on test set:\n",
      "{'eval_loss': 0.9410030841827393, 'eval_model_preparation_time': 0.002, 'eval_accuracy': 0.7096774193548387, 'eval_f1': 0.6916135370419108, 'eval_runtime': 1.9013, 'eval_samples_per_second': 342.389, 'eval_steps_per_second': 21.564}\n"
     ]
    }
   ],
   "execution_count": 91
  },
  {
   "metadata": {
    "ExecuteTime": {
     "end_time": "2025-06-17T21:28:15.056569Z",
     "start_time": "2025-06-17T21:28:14.573528Z"
    }
   },
   "cell_type": "code",
   "source": [
    "trainer.save_model(\"bert_model\")\n",
    "tokenizer.save_pretrained(\"bert_model\")\n",
    "with open(\"bert_model/label2id.json\", \"w\") as f:\n",
    "    json.dump(label2id, f)"
   ],
   "id": "aa18995278be3879",
   "outputs": [],
   "execution_count": 92
  },
  {
   "metadata": {},
   "cell_type": "code",
   "outputs": [],
   "execution_count": null,
   "source": "",
   "id": "a86a545be2a8a741"
  }
 ],
 "metadata": {
  "kernelspec": {
   "display_name": "Python 3",
   "language": "python",
   "name": "python3"
  },
  "language_info": {
   "codemirror_mode": {
    "name": "ipython",
    "version": 2
   },
   "file_extension": ".py",
   "mimetype": "text/x-python",
   "name": "python",
   "nbconvert_exporter": "python",
   "pygments_lexer": "ipython2",
   "version": "2.7.6"
  }
 },
 "nbformat": 4,
 "nbformat_minor": 5
}
